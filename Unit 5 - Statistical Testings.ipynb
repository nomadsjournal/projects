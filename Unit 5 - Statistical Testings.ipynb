{
 "cells": [
  {
   "cell_type": "code",
   "execution_count": 1,
   "metadata": {},
   "outputs": [],
   "source": [
    "import pandas as pd\n",
    "import numpy as np\n",
    "import matplotlib.pyplot as plt\n",
    "import scipy.stats as stats\n",
    "%matplotlib inline"
   ]
  },
  {
   "cell_type": "code",
   "execution_count": 2,
   "metadata": {},
   "outputs": [],
   "source": [
    "df=pd.read_csv('https://raw.githubusercontent.com/Thinkful-Ed/data-201-resources/master/ESS_practice_data/ESSdata_Thinkful.csv')"
   ]
  },
  {
   "cell_type": "code",
   "execution_count": 3,
   "metadata": {
    "scrolled": true
   },
   "outputs": [
    {
     "data": {
      "text/html": [
       "<div>\n",
       "<style scoped>\n",
       "    .dataframe tbody tr th:only-of-type {\n",
       "        vertical-align: middle;\n",
       "    }\n",
       "\n",
       "    .dataframe tbody tr th {\n",
       "        vertical-align: top;\n",
       "    }\n",
       "\n",
       "    .dataframe thead th {\n",
       "        text-align: right;\n",
       "    }\n",
       "</style>\n",
       "<table border=\"1\" class=\"dataframe\">\n",
       "  <thead>\n",
       "    <tr style=\"text-align: right;\">\n",
       "      <th></th>\n",
       "      <th>cntry</th>\n",
       "      <th>idno</th>\n",
       "      <th>year</th>\n",
       "      <th>tvtot</th>\n",
       "      <th>ppltrst</th>\n",
       "      <th>pplfair</th>\n",
       "      <th>pplhlp</th>\n",
       "      <th>happy</th>\n",
       "      <th>sclmeet</th>\n",
       "      <th>sclact</th>\n",
       "      <th>gndr</th>\n",
       "      <th>agea</th>\n",
       "      <th>partner</th>\n",
       "    </tr>\n",
       "  </thead>\n",
       "  <tbody>\n",
       "    <tr>\n",
       "      <th>0</th>\n",
       "      <td>CH</td>\n",
       "      <td>5.0</td>\n",
       "      <td>6</td>\n",
       "      <td>3.0</td>\n",
       "      <td>3.0</td>\n",
       "      <td>10.0</td>\n",
       "      <td>5.0</td>\n",
       "      <td>8.0</td>\n",
       "      <td>5.0</td>\n",
       "      <td>4.0</td>\n",
       "      <td>2.0</td>\n",
       "      <td>60.0</td>\n",
       "      <td>1.0</td>\n",
       "    </tr>\n",
       "    <tr>\n",
       "      <th>1</th>\n",
       "      <td>CH</td>\n",
       "      <td>25.0</td>\n",
       "      <td>6</td>\n",
       "      <td>6.0</td>\n",
       "      <td>5.0</td>\n",
       "      <td>7.0</td>\n",
       "      <td>5.0</td>\n",
       "      <td>9.0</td>\n",
       "      <td>3.0</td>\n",
       "      <td>2.0</td>\n",
       "      <td>2.0</td>\n",
       "      <td>59.0</td>\n",
       "      <td>1.0</td>\n",
       "    </tr>\n",
       "    <tr>\n",
       "      <th>2</th>\n",
       "      <td>CH</td>\n",
       "      <td>26.0</td>\n",
       "      <td>6</td>\n",
       "      <td>1.0</td>\n",
       "      <td>8.0</td>\n",
       "      <td>8.0</td>\n",
       "      <td>8.0</td>\n",
       "      <td>7.0</td>\n",
       "      <td>6.0</td>\n",
       "      <td>3.0</td>\n",
       "      <td>1.0</td>\n",
       "      <td>24.0</td>\n",
       "      <td>2.0</td>\n",
       "    </tr>\n",
       "    <tr>\n",
       "      <th>3</th>\n",
       "      <td>CH</td>\n",
       "      <td>28.0</td>\n",
       "      <td>6</td>\n",
       "      <td>4.0</td>\n",
       "      <td>6.0</td>\n",
       "      <td>6.0</td>\n",
       "      <td>7.0</td>\n",
       "      <td>10.0</td>\n",
       "      <td>6.0</td>\n",
       "      <td>2.0</td>\n",
       "      <td>2.0</td>\n",
       "      <td>64.0</td>\n",
       "      <td>1.0</td>\n",
       "    </tr>\n",
       "    <tr>\n",
       "      <th>4</th>\n",
       "      <td>CH</td>\n",
       "      <td>29.0</td>\n",
       "      <td>6</td>\n",
       "      <td>5.0</td>\n",
       "      <td>6.0</td>\n",
       "      <td>7.0</td>\n",
       "      <td>5.0</td>\n",
       "      <td>8.0</td>\n",
       "      <td>7.0</td>\n",
       "      <td>2.0</td>\n",
       "      <td>2.0</td>\n",
       "      <td>55.0</td>\n",
       "      <td>1.0</td>\n",
       "    </tr>\n",
       "  </tbody>\n",
       "</table>\n",
       "</div>"
      ],
      "text/plain": [
       "  cntry  idno  year  tvtot  ppltrst  pplfair  pplhlp  happy  sclmeet  sclact  \\\n",
       "0    CH   5.0     6    3.0      3.0     10.0     5.0    8.0      5.0     4.0   \n",
       "1    CH  25.0     6    6.0      5.0      7.0     5.0    9.0      3.0     2.0   \n",
       "2    CH  26.0     6    1.0      8.0      8.0     8.0    7.0      6.0     3.0   \n",
       "3    CH  28.0     6    4.0      6.0      6.0     7.0   10.0      6.0     2.0   \n",
       "4    CH  29.0     6    5.0      6.0      7.0     5.0    8.0      7.0     2.0   \n",
       "\n",
       "   gndr  agea  partner  \n",
       "0   2.0  60.0      1.0  \n",
       "1   2.0  59.0      1.0  \n",
       "2   1.0  24.0      2.0  \n",
       "3   2.0  64.0      1.0  \n",
       "4   2.0  55.0      1.0  "
      ]
     },
     "execution_count": 3,
     "metadata": {},
     "output_type": "execute_result"
    }
   ],
   "source": [
    "df.head()"
   ]
  },
  {
   "cell_type": "code",
   "execution_count": 4,
   "metadata": {},
   "outputs": [
    {
     "data": {
      "text/html": [
       "<div>\n",
       "<style scoped>\n",
       "    .dataframe tbody tr th:only-of-type {\n",
       "        vertical-align: middle;\n",
       "    }\n",
       "\n",
       "    .dataframe tbody tr th {\n",
       "        vertical-align: top;\n",
       "    }\n",
       "\n",
       "    .dataframe thead th {\n",
       "        text-align: right;\n",
       "    }\n",
       "</style>\n",
       "<table border=\"1\" class=\"dataframe\">\n",
       "  <thead>\n",
       "    <tr style=\"text-align: right;\">\n",
       "      <th></th>\n",
       "      <th></th>\n",
       "      <th>idno</th>\n",
       "      <th>tvtot</th>\n",
       "      <th>ppltrst</th>\n",
       "      <th>pplfair</th>\n",
       "      <th>pplhlp</th>\n",
       "      <th>happy</th>\n",
       "      <th>sclmeet</th>\n",
       "      <th>sclact</th>\n",
       "      <th>gndr</th>\n",
       "      <th>agea</th>\n",
       "      <th>partner</th>\n",
       "    </tr>\n",
       "    <tr>\n",
       "      <th>cntry</th>\n",
       "      <th>year</th>\n",
       "      <th></th>\n",
       "      <th></th>\n",
       "      <th></th>\n",
       "      <th></th>\n",
       "      <th></th>\n",
       "      <th></th>\n",
       "      <th></th>\n",
       "      <th></th>\n",
       "      <th></th>\n",
       "      <th></th>\n",
       "      <th></th>\n",
       "    </tr>\n",
       "  </thead>\n",
       "  <tbody>\n",
       "    <tr>\n",
       "      <th rowspan=\"2\" valign=\"top\">CH</th>\n",
       "      <th>6</th>\n",
       "      <td>773</td>\n",
       "      <td>772</td>\n",
       "      <td>773</td>\n",
       "      <td>770</td>\n",
       "      <td>771</td>\n",
       "      <td>770</td>\n",
       "      <td>770</td>\n",
       "      <td>762</td>\n",
       "      <td>773</td>\n",
       "      <td>752</td>\n",
       "      <td>773</td>\n",
       "    </tr>\n",
       "    <tr>\n",
       "      <th>7</th>\n",
       "      <td>773</td>\n",
       "      <td>773</td>\n",
       "      <td>773</td>\n",
       "      <td>773</td>\n",
       "      <td>773</td>\n",
       "      <td>773</td>\n",
       "      <td>772</td>\n",
       "      <td>765</td>\n",
       "      <td>773</td>\n",
       "      <td>751</td>\n",
       "      <td>773</td>\n",
       "    </tr>\n",
       "    <tr>\n",
       "      <th rowspan=\"2\" valign=\"top\">CZ</th>\n",
       "      <th>6</th>\n",
       "      <td>658</td>\n",
       "      <td>653</td>\n",
       "      <td>651</td>\n",
       "      <td>649</td>\n",
       "      <td>654</td>\n",
       "      <td>646</td>\n",
       "      <td>655</td>\n",
       "      <td>644</td>\n",
       "      <td>658</td>\n",
       "      <td>639</td>\n",
       "      <td>656</td>\n",
       "    </tr>\n",
       "    <tr>\n",
       "      <th>7</th>\n",
       "      <td>658</td>\n",
       "      <td>658</td>\n",
       "      <td>657</td>\n",
       "      <td>658</td>\n",
       "      <td>657</td>\n",
       "      <td>652</td>\n",
       "      <td>655</td>\n",
       "      <td>650</td>\n",
       "      <td>648</td>\n",
       "      <td>641</td>\n",
       "      <td>652</td>\n",
       "    </tr>\n",
       "    <tr>\n",
       "      <th rowspan=\"2\" valign=\"top\">DE</th>\n",
       "      <th>6</th>\n",
       "      <td>14</td>\n",
       "      <td>14</td>\n",
       "      <td>14</td>\n",
       "      <td>13</td>\n",
       "      <td>13</td>\n",
       "      <td>14</td>\n",
       "      <td>14</td>\n",
       "      <td>14</td>\n",
       "      <td>14</td>\n",
       "      <td>14</td>\n",
       "      <td>14</td>\n",
       "    </tr>\n",
       "    <tr>\n",
       "      <th>7</th>\n",
       "      <td>14</td>\n",
       "      <td>14</td>\n",
       "      <td>14</td>\n",
       "      <td>14</td>\n",
       "      <td>14</td>\n",
       "      <td>14</td>\n",
       "      <td>14</td>\n",
       "      <td>14</td>\n",
       "      <td>14</td>\n",
       "      <td>14</td>\n",
       "      <td>14</td>\n",
       "    </tr>\n",
       "    <tr>\n",
       "      <th rowspan=\"2\" valign=\"top\">ES</th>\n",
       "      <th>6</th>\n",
       "      <td>1213</td>\n",
       "      <td>1213</td>\n",
       "      <td>1213</td>\n",
       "      <td>1211</td>\n",
       "      <td>1208</td>\n",
       "      <td>1212</td>\n",
       "      <td>1211</td>\n",
       "      <td>1203</td>\n",
       "      <td>1213</td>\n",
       "      <td>1178</td>\n",
       "      <td>1210</td>\n",
       "    </tr>\n",
       "    <tr>\n",
       "      <th>7</th>\n",
       "      <td>1213</td>\n",
       "      <td>1212</td>\n",
       "      <td>1211</td>\n",
       "      <td>1199</td>\n",
       "      <td>1209</td>\n",
       "      <td>1212</td>\n",
       "      <td>1211</td>\n",
       "      <td>1185</td>\n",
       "      <td>1213</td>\n",
       "      <td>1182</td>\n",
       "      <td>1210</td>\n",
       "    </tr>\n",
       "    <tr>\n",
       "      <th rowspan=\"2\" valign=\"top\">NO</th>\n",
       "      <th>6</th>\n",
       "      <td>731</td>\n",
       "      <td>731</td>\n",
       "      <td>730</td>\n",
       "      <td>729</td>\n",
       "      <td>729</td>\n",
       "      <td>727</td>\n",
       "      <td>731</td>\n",
       "      <td>726</td>\n",
       "      <td>731</td>\n",
       "      <td>718</td>\n",
       "      <td>729</td>\n",
       "    </tr>\n",
       "    <tr>\n",
       "      <th>7</th>\n",
       "      <td>731</td>\n",
       "      <td>731</td>\n",
       "      <td>730</td>\n",
       "      <td>729</td>\n",
       "      <td>728</td>\n",
       "      <td>731</td>\n",
       "      <td>731</td>\n",
       "      <td>731</td>\n",
       "      <td>731</td>\n",
       "      <td>718</td>\n",
       "      <td>730</td>\n",
       "    </tr>\n",
       "    <tr>\n",
       "      <th rowspan=\"2\" valign=\"top\">SE</th>\n",
       "      <th>6</th>\n",
       "      <td>908</td>\n",
       "      <td>908</td>\n",
       "      <td>906</td>\n",
       "      <td>905</td>\n",
       "      <td>907</td>\n",
       "      <td>907</td>\n",
       "      <td>907</td>\n",
       "      <td>902</td>\n",
       "      <td>908</td>\n",
       "      <td>870</td>\n",
       "      <td>908</td>\n",
       "    </tr>\n",
       "    <tr>\n",
       "      <th>7</th>\n",
       "      <td>908</td>\n",
       "      <td>907</td>\n",
       "      <td>908</td>\n",
       "      <td>905</td>\n",
       "      <td>906</td>\n",
       "      <td>905</td>\n",
       "      <td>908</td>\n",
       "      <td>904</td>\n",
       "      <td>908</td>\n",
       "      <td>878</td>\n",
       "      <td>908</td>\n",
       "    </tr>\n",
       "  </tbody>\n",
       "</table>\n",
       "</div>"
      ],
      "text/plain": [
       "            idno  tvtot  ppltrst  pplfair  pplhlp  happy  sclmeet  sclact  \\\n",
       "cntry year                                                                  \n",
       "CH    6      773    772      773      770     771    770      770     762   \n",
       "      7      773    773      773      773     773    773      772     765   \n",
       "CZ    6      658    653      651      649     654    646      655     644   \n",
       "      7      658    658      657      658     657    652      655     650   \n",
       "DE    6       14     14       14       13      13     14       14      14   \n",
       "      7       14     14       14       14      14     14       14      14   \n",
       "ES    6     1213   1213     1213     1211    1208   1212     1211    1203   \n",
       "      7     1213   1212     1211     1199    1209   1212     1211    1185   \n",
       "NO    6      731    731      730      729     729    727      731     726   \n",
       "      7      731    731      730      729     728    731      731     731   \n",
       "SE    6      908    908      906      905     907    907      907     902   \n",
       "      7      908    907      908      905     906    905      908     904   \n",
       "\n",
       "            gndr  agea  partner  \n",
       "cntry year                       \n",
       "CH    6      773   752      773  \n",
       "      7      773   751      773  \n",
       "CZ    6      658   639      656  \n",
       "      7      648   641      652  \n",
       "DE    6       14    14       14  \n",
       "      7       14    14       14  \n",
       "ES    6     1213  1178     1210  \n",
       "      7     1213  1182     1210  \n",
       "NO    6      731   718      729  \n",
       "      7      731   718      730  \n",
       "SE    6      908   870      908  \n",
       "      7      908   878      908  "
      ]
     },
     "execution_count": 4,
     "metadata": {},
     "output_type": "execute_result"
    }
   ],
   "source": [
    "df.groupby(by=['cntry','year']).count()"
   ]
  },
  {
   "cell_type": "code",
   "execution_count": 5,
   "metadata": {},
   "outputs": [
    {
     "data": {
      "text/html": [
       "<div>\n",
       "<style scoped>\n",
       "    .dataframe tbody tr th:only-of-type {\n",
       "        vertical-align: middle;\n",
       "    }\n",
       "\n",
       "    .dataframe tbody tr th {\n",
       "        vertical-align: top;\n",
       "    }\n",
       "\n",
       "    .dataframe thead th {\n",
       "        text-align: right;\n",
       "    }\n",
       "</style>\n",
       "<table border=\"1\" class=\"dataframe\">\n",
       "  <thead>\n",
       "    <tr style=\"text-align: right;\">\n",
       "      <th></th>\n",
       "      <th></th>\n",
       "      <th>idno</th>\n",
       "      <th>tvtot</th>\n",
       "      <th>ppltrst</th>\n",
       "      <th>pplfair</th>\n",
       "      <th>pplhlp</th>\n",
       "      <th>happy</th>\n",
       "      <th>sclmeet</th>\n",
       "      <th>sclact</th>\n",
       "      <th>gndr</th>\n",
       "      <th>agea</th>\n",
       "      <th>partner</th>\n",
       "    </tr>\n",
       "    <tr>\n",
       "      <th>cntry</th>\n",
       "      <th>year</th>\n",
       "      <th></th>\n",
       "      <th></th>\n",
       "      <th></th>\n",
       "      <th></th>\n",
       "      <th></th>\n",
       "      <th></th>\n",
       "      <th></th>\n",
       "      <th></th>\n",
       "      <th></th>\n",
       "      <th></th>\n",
       "      <th></th>\n",
       "    </tr>\n",
       "  </thead>\n",
       "  <tbody>\n",
       "    <tr>\n",
       "      <th rowspan=\"2\" valign=\"top\">CH</th>\n",
       "      <th>6</th>\n",
       "      <td>1.480680e+03</td>\n",
       "      <td>3.141192</td>\n",
       "      <td>5.677878</td>\n",
       "      <td>6.350649</td>\n",
       "      <td>5.726329</td>\n",
       "      <td>8.088312</td>\n",
       "      <td>5.080519</td>\n",
       "      <td>2.704724</td>\n",
       "      <td>1.514877</td>\n",
       "      <td>47.344415</td>\n",
       "      <td>1.349288</td>\n",
       "    </tr>\n",
       "    <tr>\n",
       "      <th>7</th>\n",
       "      <td>1.480680e+03</td>\n",
       "      <td>3.065977</td>\n",
       "      <td>5.751617</td>\n",
       "      <td>6.219922</td>\n",
       "      <td>5.671410</td>\n",
       "      <td>8.116429</td>\n",
       "      <td>5.160622</td>\n",
       "      <td>2.781699</td>\n",
       "      <td>1.512290</td>\n",
       "      <td>46.141145</td>\n",
       "      <td>1.376455</td>\n",
       "    </tr>\n",
       "    <tr>\n",
       "      <th rowspan=\"2\" valign=\"top\">CZ</th>\n",
       "      <th>6</th>\n",
       "      <td>1.445666e+03</td>\n",
       "      <td>5.142420</td>\n",
       "      <td>4.362519</td>\n",
       "      <td>4.959938</td>\n",
       "      <td>4.503058</td>\n",
       "      <td>6.770898</td>\n",
       "      <td>4.648855</td>\n",
       "      <td>2.613354</td>\n",
       "      <td>1.515198</td>\n",
       "      <td>47.053208</td>\n",
       "      <td>1.432927</td>\n",
       "    </tr>\n",
       "    <tr>\n",
       "      <th>7</th>\n",
       "      <td>1.445666e+03</td>\n",
       "      <td>4.686930</td>\n",
       "      <td>4.424658</td>\n",
       "      <td>4.904255</td>\n",
       "      <td>4.465753</td>\n",
       "      <td>6.914110</td>\n",
       "      <td>4.445802</td>\n",
       "      <td>2.703077</td>\n",
       "      <td>1.535494</td>\n",
       "      <td>45.552262</td>\n",
       "      <td>1.420245</td>\n",
       "    </tr>\n",
       "    <tr>\n",
       "      <th rowspan=\"2\" valign=\"top\">DE</th>\n",
       "      <th>6</th>\n",
       "      <td>1.100048e+07</td>\n",
       "      <td>4.928571</td>\n",
       "      <td>5.214286</td>\n",
       "      <td>5.692308</td>\n",
       "      <td>5.000000</td>\n",
       "      <td>7.428571</td>\n",
       "      <td>5.000000</td>\n",
       "      <td>2.857143</td>\n",
       "      <td>1.571429</td>\n",
       "      <td>52.071429</td>\n",
       "      <td>1.357143</td>\n",
       "    </tr>\n",
       "    <tr>\n",
       "      <th>7</th>\n",
       "      <td>1.100048e+07</td>\n",
       "      <td>3.071429</td>\n",
       "      <td>5.357143</td>\n",
       "      <td>6.714286</td>\n",
       "      <td>5.857143</td>\n",
       "      <td>7.857143</td>\n",
       "      <td>4.428571</td>\n",
       "      <td>2.714286</td>\n",
       "      <td>1.571429</td>\n",
       "      <td>59.714286</td>\n",
       "      <td>1.142857</td>\n",
       "    </tr>\n",
       "    <tr>\n",
       "      <th rowspan=\"2\" valign=\"top\">ES</th>\n",
       "      <th>6</th>\n",
       "      <td>1.467607e+03</td>\n",
       "      <td>3.977741</td>\n",
       "      <td>5.114592</td>\n",
       "      <td>5.354253</td>\n",
       "      <td>4.748344</td>\n",
       "      <td>7.548680</td>\n",
       "      <td>5.228737</td>\n",
       "      <td>2.560266</td>\n",
       "      <td>1.515251</td>\n",
       "      <td>47.700340</td>\n",
       "      <td>1.372727</td>\n",
       "    </tr>\n",
       "    <tr>\n",
       "      <th>7</th>\n",
       "      <td>1.467607e+03</td>\n",
       "      <td>4.015677</td>\n",
       "      <td>4.895128</td>\n",
       "      <td>5.340284</td>\n",
       "      <td>4.326716</td>\n",
       "      <td>7.419967</td>\n",
       "      <td>5.260116</td>\n",
       "      <td>2.616878</td>\n",
       "      <td>1.493817</td>\n",
       "      <td>48.048223</td>\n",
       "      <td>1.398347</td>\n",
       "    </tr>\n",
       "    <tr>\n",
       "      <th rowspan=\"2\" valign=\"top\">NO</th>\n",
       "      <th>6</th>\n",
       "      <td>1.430671e+04</td>\n",
       "      <td>3.837209</td>\n",
       "      <td>6.649315</td>\n",
       "      <td>6.927298</td>\n",
       "      <td>6.085048</td>\n",
       "      <td>8.251719</td>\n",
       "      <td>5.530780</td>\n",
       "      <td>2.965565</td>\n",
       "      <td>1.471956</td>\n",
       "      <td>46.364903</td>\n",
       "      <td>1.348422</td>\n",
       "    </tr>\n",
       "    <tr>\n",
       "      <th>7</th>\n",
       "      <td>1.430671e+04</td>\n",
       "      <td>3.705882</td>\n",
       "      <td>6.598630</td>\n",
       "      <td>6.861454</td>\n",
       "      <td>6.001374</td>\n",
       "      <td>7.915185</td>\n",
       "      <td>5.302326</td>\n",
       "      <td>2.859097</td>\n",
       "      <td>1.461012</td>\n",
       "      <td>46.707521</td>\n",
       "      <td>1.390411</td>\n",
       "    </tr>\n",
       "    <tr>\n",
       "      <th rowspan=\"2\" valign=\"top\">SE</th>\n",
       "      <th>6</th>\n",
       "      <td>1.765173e+03</td>\n",
       "      <td>3.691630</td>\n",
       "      <td>6.058499</td>\n",
       "      <td>6.559116</td>\n",
       "      <td>6.039691</td>\n",
       "      <td>7.907387</td>\n",
       "      <td>5.528115</td>\n",
       "      <td>2.917960</td>\n",
       "      <td>1.471366</td>\n",
       "      <td>48.673563</td>\n",
       "      <td>1.387665</td>\n",
       "    </tr>\n",
       "    <tr>\n",
       "      <th>7</th>\n",
       "      <td>1.765173e+03</td>\n",
       "      <td>3.585447</td>\n",
       "      <td>6.257709</td>\n",
       "      <td>6.836464</td>\n",
       "      <td>6.082781</td>\n",
       "      <td>7.946961</td>\n",
       "      <td>5.426211</td>\n",
       "      <td>2.879425</td>\n",
       "      <td>1.482379</td>\n",
       "      <td>49.403189</td>\n",
       "      <td>1.386564</td>\n",
       "    </tr>\n",
       "  </tbody>\n",
       "</table>\n",
       "</div>"
      ],
      "text/plain": [
       "                    idno     tvtot   ppltrst   pplfair    pplhlp     happy  \\\n",
       "cntry year                                                                   \n",
       "CH    6     1.480680e+03  3.141192  5.677878  6.350649  5.726329  8.088312   \n",
       "      7     1.480680e+03  3.065977  5.751617  6.219922  5.671410  8.116429   \n",
       "CZ    6     1.445666e+03  5.142420  4.362519  4.959938  4.503058  6.770898   \n",
       "      7     1.445666e+03  4.686930  4.424658  4.904255  4.465753  6.914110   \n",
       "DE    6     1.100048e+07  4.928571  5.214286  5.692308  5.000000  7.428571   \n",
       "      7     1.100048e+07  3.071429  5.357143  6.714286  5.857143  7.857143   \n",
       "ES    6     1.467607e+03  3.977741  5.114592  5.354253  4.748344  7.548680   \n",
       "      7     1.467607e+03  4.015677  4.895128  5.340284  4.326716  7.419967   \n",
       "NO    6     1.430671e+04  3.837209  6.649315  6.927298  6.085048  8.251719   \n",
       "      7     1.430671e+04  3.705882  6.598630  6.861454  6.001374  7.915185   \n",
       "SE    6     1.765173e+03  3.691630  6.058499  6.559116  6.039691  7.907387   \n",
       "      7     1.765173e+03  3.585447  6.257709  6.836464  6.082781  7.946961   \n",
       "\n",
       "             sclmeet    sclact      gndr       agea   partner  \n",
       "cntry year                                                     \n",
       "CH    6     5.080519  2.704724  1.514877  47.344415  1.349288  \n",
       "      7     5.160622  2.781699  1.512290  46.141145  1.376455  \n",
       "CZ    6     4.648855  2.613354  1.515198  47.053208  1.432927  \n",
       "      7     4.445802  2.703077  1.535494  45.552262  1.420245  \n",
       "DE    6     5.000000  2.857143  1.571429  52.071429  1.357143  \n",
       "      7     4.428571  2.714286  1.571429  59.714286  1.142857  \n",
       "ES    6     5.228737  2.560266  1.515251  47.700340  1.372727  \n",
       "      7     5.260116  2.616878  1.493817  48.048223  1.398347  \n",
       "NO    6     5.530780  2.965565  1.471956  46.364903  1.348422  \n",
       "      7     5.302326  2.859097  1.461012  46.707521  1.390411  \n",
       "SE    6     5.528115  2.917960  1.471366  48.673563  1.387665  \n",
       "      7     5.426211  2.879425  1.482379  49.403189  1.386564  "
      ]
     },
     "execution_count": 5,
     "metadata": {},
     "output_type": "execute_result"
    }
   ],
   "source": [
    "df.groupby(by=['cntry','year']).mean()"
   ]
  },
  {
   "cell_type": "code",
   "execution_count": 6,
   "metadata": {},
   "outputs": [
    {
     "data": {
      "text/html": [
       "<div>\n",
       "<style scoped>\n",
       "    .dataframe tbody tr th:only-of-type {\n",
       "        vertical-align: middle;\n",
       "    }\n",
       "\n",
       "    .dataframe tbody tr th {\n",
       "        vertical-align: top;\n",
       "    }\n",
       "\n",
       "    .dataframe thead th {\n",
       "        text-align: right;\n",
       "    }\n",
       "</style>\n",
       "<table border=\"1\" class=\"dataframe\">\n",
       "  <thead>\n",
       "    <tr style=\"text-align: right;\">\n",
       "      <th></th>\n",
       "      <th></th>\n",
       "      <th>idno</th>\n",
       "      <th>tvtot</th>\n",
       "      <th>ppltrst</th>\n",
       "      <th>pplfair</th>\n",
       "      <th>pplhlp</th>\n",
       "      <th>happy</th>\n",
       "      <th>sclmeet</th>\n",
       "      <th>sclact</th>\n",
       "      <th>gndr</th>\n",
       "      <th>agea</th>\n",
       "      <th>partner</th>\n",
       "    </tr>\n",
       "    <tr>\n",
       "      <th>cntry</th>\n",
       "      <th>year</th>\n",
       "      <th></th>\n",
       "      <th></th>\n",
       "      <th></th>\n",
       "      <th></th>\n",
       "      <th></th>\n",
       "      <th></th>\n",
       "      <th></th>\n",
       "      <th></th>\n",
       "      <th></th>\n",
       "      <th></th>\n",
       "      <th></th>\n",
       "    </tr>\n",
       "  </thead>\n",
       "  <tbody>\n",
       "    <tr>\n",
       "      <th rowspan=\"2\" valign=\"top\">CH</th>\n",
       "      <th>6</th>\n",
       "      <td>1432.0</td>\n",
       "      <td>3.0</td>\n",
       "      <td>6.0</td>\n",
       "      <td>7.0</td>\n",
       "      <td>6.0</td>\n",
       "      <td>8.0</td>\n",
       "      <td>5.0</td>\n",
       "      <td>3.0</td>\n",
       "      <td>2.0</td>\n",
       "      <td>47.0</td>\n",
       "      <td>1.0</td>\n",
       "    </tr>\n",
       "    <tr>\n",
       "      <th>7</th>\n",
       "      <td>1432.0</td>\n",
       "      <td>3.0</td>\n",
       "      <td>6.0</td>\n",
       "      <td>7.0</td>\n",
       "      <td>6.0</td>\n",
       "      <td>8.0</td>\n",
       "      <td>6.0</td>\n",
       "      <td>3.0</td>\n",
       "      <td>2.0</td>\n",
       "      <td>45.0</td>\n",
       "      <td>1.0</td>\n",
       "    </tr>\n",
       "    <tr>\n",
       "      <th rowspan=\"2\" valign=\"top\">CZ</th>\n",
       "      <th>6</th>\n",
       "      <td>1333.5</td>\n",
       "      <td>6.0</td>\n",
       "      <td>4.0</td>\n",
       "      <td>5.0</td>\n",
       "      <td>4.0</td>\n",
       "      <td>7.0</td>\n",
       "      <td>5.0</td>\n",
       "      <td>3.0</td>\n",
       "      <td>2.0</td>\n",
       "      <td>47.0</td>\n",
       "      <td>1.0</td>\n",
       "    </tr>\n",
       "    <tr>\n",
       "      <th>7</th>\n",
       "      <td>1333.5</td>\n",
       "      <td>5.0</td>\n",
       "      <td>5.0</td>\n",
       "      <td>5.0</td>\n",
       "      <td>5.0</td>\n",
       "      <td>7.0</td>\n",
       "      <td>4.0</td>\n",
       "      <td>3.0</td>\n",
       "      <td>2.0</td>\n",
       "      <td>45.0</td>\n",
       "      <td>1.0</td>\n",
       "    </tr>\n",
       "    <tr>\n",
       "      <th rowspan=\"2\" valign=\"top\">DE</th>\n",
       "      <th>6</th>\n",
       "      <td>11000271.0</td>\n",
       "      <td>5.5</td>\n",
       "      <td>5.0</td>\n",
       "      <td>6.0</td>\n",
       "      <td>5.0</td>\n",
       "      <td>8.0</td>\n",
       "      <td>5.0</td>\n",
       "      <td>3.0</td>\n",
       "      <td>2.0</td>\n",
       "      <td>54.0</td>\n",
       "      <td>1.0</td>\n",
       "    </tr>\n",
       "    <tr>\n",
       "      <th>7</th>\n",
       "      <td>11000271.0</td>\n",
       "      <td>3.0</td>\n",
       "      <td>5.5</td>\n",
       "      <td>7.0</td>\n",
       "      <td>5.5</td>\n",
       "      <td>8.0</td>\n",
       "      <td>4.0</td>\n",
       "      <td>3.0</td>\n",
       "      <td>2.0</td>\n",
       "      <td>56.5</td>\n",
       "      <td>1.0</td>\n",
       "    </tr>\n",
       "    <tr>\n",
       "      <th rowspan=\"2\" valign=\"top\">ES</th>\n",
       "      <th>6</th>\n",
       "      <td>1456.0</td>\n",
       "      <td>4.0</td>\n",
       "      <td>5.0</td>\n",
       "      <td>5.0</td>\n",
       "      <td>5.0</td>\n",
       "      <td>8.0</td>\n",
       "      <td>6.0</td>\n",
       "      <td>3.0</td>\n",
       "      <td>2.0</td>\n",
       "      <td>46.0</td>\n",
       "      <td>1.0</td>\n",
       "    </tr>\n",
       "    <tr>\n",
       "      <th>7</th>\n",
       "      <td>1456.0</td>\n",
       "      <td>4.0</td>\n",
       "      <td>5.0</td>\n",
       "      <td>5.0</td>\n",
       "      <td>5.0</td>\n",
       "      <td>8.0</td>\n",
       "      <td>6.0</td>\n",
       "      <td>3.0</td>\n",
       "      <td>1.0</td>\n",
       "      <td>47.0</td>\n",
       "      <td>1.0</td>\n",
       "    </tr>\n",
       "    <tr>\n",
       "      <th rowspan=\"2\" valign=\"top\">NO</th>\n",
       "      <th>6</th>\n",
       "      <td>14346.0</td>\n",
       "      <td>4.0</td>\n",
       "      <td>7.0</td>\n",
       "      <td>7.0</td>\n",
       "      <td>6.0</td>\n",
       "      <td>8.0</td>\n",
       "      <td>6.0</td>\n",
       "      <td>3.0</td>\n",
       "      <td>1.0</td>\n",
       "      <td>46.0</td>\n",
       "      <td>1.0</td>\n",
       "    </tr>\n",
       "    <tr>\n",
       "      <th>7</th>\n",
       "      <td>14346.0</td>\n",
       "      <td>4.0</td>\n",
       "      <td>7.0</td>\n",
       "      <td>7.0</td>\n",
       "      <td>6.0</td>\n",
       "      <td>8.0</td>\n",
       "      <td>6.0</td>\n",
       "      <td>3.0</td>\n",
       "      <td>1.0</td>\n",
       "      <td>47.0</td>\n",
       "      <td>1.0</td>\n",
       "    </tr>\n",
       "    <tr>\n",
       "      <th rowspan=\"2\" valign=\"top\">SE</th>\n",
       "      <th>6</th>\n",
       "      <td>1585.0</td>\n",
       "      <td>4.0</td>\n",
       "      <td>7.0</td>\n",
       "      <td>7.0</td>\n",
       "      <td>6.0</td>\n",
       "      <td>8.0</td>\n",
       "      <td>6.0</td>\n",
       "      <td>3.0</td>\n",
       "      <td>1.0</td>\n",
       "      <td>50.0</td>\n",
       "      <td>1.0</td>\n",
       "    </tr>\n",
       "    <tr>\n",
       "      <th>7</th>\n",
       "      <td>1585.0</td>\n",
       "      <td>4.0</td>\n",
       "      <td>7.0</td>\n",
       "      <td>7.0</td>\n",
       "      <td>6.0</td>\n",
       "      <td>8.0</td>\n",
       "      <td>6.0</td>\n",
       "      <td>3.0</td>\n",
       "      <td>1.0</td>\n",
       "      <td>51.0</td>\n",
       "      <td>1.0</td>\n",
       "    </tr>\n",
       "  </tbody>\n",
       "</table>\n",
       "</div>"
      ],
      "text/plain": [
       "                  idno  tvtot  ppltrst  pplfair  pplhlp  happy  sclmeet  \\\n",
       "cntry year                                                                \n",
       "CH    6         1432.0    3.0      6.0      7.0     6.0    8.0      5.0   \n",
       "      7         1432.0    3.0      6.0      7.0     6.0    8.0      6.0   \n",
       "CZ    6         1333.5    6.0      4.0      5.0     4.0    7.0      5.0   \n",
       "      7         1333.5    5.0      5.0      5.0     5.0    7.0      4.0   \n",
       "DE    6     11000271.0    5.5      5.0      6.0     5.0    8.0      5.0   \n",
       "      7     11000271.0    3.0      5.5      7.0     5.5    8.0      4.0   \n",
       "ES    6         1456.0    4.0      5.0      5.0     5.0    8.0      6.0   \n",
       "      7         1456.0    4.0      5.0      5.0     5.0    8.0      6.0   \n",
       "NO    6        14346.0    4.0      7.0      7.0     6.0    8.0      6.0   \n",
       "      7        14346.0    4.0      7.0      7.0     6.0    8.0      6.0   \n",
       "SE    6         1585.0    4.0      7.0      7.0     6.0    8.0      6.0   \n",
       "      7         1585.0    4.0      7.0      7.0     6.0    8.0      6.0   \n",
       "\n",
       "            sclact  gndr  agea  partner  \n",
       "cntry year                               \n",
       "CH    6        3.0   2.0  47.0      1.0  \n",
       "      7        3.0   2.0  45.0      1.0  \n",
       "CZ    6        3.0   2.0  47.0      1.0  \n",
       "      7        3.0   2.0  45.0      1.0  \n",
       "DE    6        3.0   2.0  54.0      1.0  \n",
       "      7        3.0   2.0  56.5      1.0  \n",
       "ES    6        3.0   2.0  46.0      1.0  \n",
       "      7        3.0   1.0  47.0      1.0  \n",
       "NO    6        3.0   1.0  46.0      1.0  \n",
       "      7        3.0   1.0  47.0      1.0  \n",
       "SE    6        3.0   1.0  50.0      1.0  \n",
       "      7        3.0   1.0  51.0      1.0  "
      ]
     },
     "execution_count": 6,
     "metadata": {},
     "output_type": "execute_result"
    }
   ],
   "source": [
    "df.groupby(by=['cntry','year']).median()"
   ]
  },
  {
   "cell_type": "code",
   "execution_count": 7,
   "metadata": {},
   "outputs": [
    {
     "data": {
      "text/html": [
       "<div>\n",
       "<style scoped>\n",
       "    .dataframe tbody tr th:only-of-type {\n",
       "        vertical-align: middle;\n",
       "    }\n",
       "\n",
       "    .dataframe tbody tr th {\n",
       "        vertical-align: top;\n",
       "    }\n",
       "\n",
       "    .dataframe thead th {\n",
       "        text-align: right;\n",
       "    }\n",
       "</style>\n",
       "<table border=\"1\" class=\"dataframe\">\n",
       "  <thead>\n",
       "    <tr style=\"text-align: right;\">\n",
       "      <th></th>\n",
       "      <th>cntry</th>\n",
       "      <th>idno</th>\n",
       "      <th>year</th>\n",
       "      <th>tvtot</th>\n",
       "      <th>ppltrst</th>\n",
       "      <th>pplfair</th>\n",
       "      <th>pplhlp</th>\n",
       "      <th>happy</th>\n",
       "      <th>sclmeet</th>\n",
       "      <th>sclact</th>\n",
       "      <th>gndr</th>\n",
       "      <th>agea</th>\n",
       "      <th>partner</th>\n",
       "    </tr>\n",
       "  </thead>\n",
       "  <tbody>\n",
       "    <tr>\n",
       "      <th>0</th>\n",
       "      <td>CH</td>\n",
       "      <td>5.0</td>\n",
       "      <td>6</td>\n",
       "      <td>3.0</td>\n",
       "      <td>3.0</td>\n",
       "      <td>10.0</td>\n",
       "      <td>5.0</td>\n",
       "      <td>8.0</td>\n",
       "      <td>5.0</td>\n",
       "      <td>4.0</td>\n",
       "      <td>2.0</td>\n",
       "      <td>60.0</td>\n",
       "      <td>1.0</td>\n",
       "    </tr>\n",
       "    <tr>\n",
       "      <th>1</th>\n",
       "      <td>CH</td>\n",
       "      <td>25.0</td>\n",
       "      <td>6</td>\n",
       "      <td>6.0</td>\n",
       "      <td>5.0</td>\n",
       "      <td>7.0</td>\n",
       "      <td>5.0</td>\n",
       "      <td>9.0</td>\n",
       "      <td>3.0</td>\n",
       "      <td>2.0</td>\n",
       "      <td>2.0</td>\n",
       "      <td>59.0</td>\n",
       "      <td>1.0</td>\n",
       "    </tr>\n",
       "    <tr>\n",
       "      <th>2</th>\n",
       "      <td>CH</td>\n",
       "      <td>26.0</td>\n",
       "      <td>6</td>\n",
       "      <td>1.0</td>\n",
       "      <td>8.0</td>\n",
       "      <td>8.0</td>\n",
       "      <td>8.0</td>\n",
       "      <td>7.0</td>\n",
       "      <td>6.0</td>\n",
       "      <td>3.0</td>\n",
       "      <td>1.0</td>\n",
       "      <td>24.0</td>\n",
       "      <td>2.0</td>\n",
       "    </tr>\n",
       "    <tr>\n",
       "      <th>3</th>\n",
       "      <td>CH</td>\n",
       "      <td>28.0</td>\n",
       "      <td>6</td>\n",
       "      <td>4.0</td>\n",
       "      <td>6.0</td>\n",
       "      <td>6.0</td>\n",
       "      <td>7.0</td>\n",
       "      <td>10.0</td>\n",
       "      <td>6.0</td>\n",
       "      <td>2.0</td>\n",
       "      <td>2.0</td>\n",
       "      <td>64.0</td>\n",
       "      <td>1.0</td>\n",
       "    </tr>\n",
       "    <tr>\n",
       "      <th>4</th>\n",
       "      <td>CH</td>\n",
       "      <td>29.0</td>\n",
       "      <td>6</td>\n",
       "      <td>5.0</td>\n",
       "      <td>6.0</td>\n",
       "      <td>7.0</td>\n",
       "      <td>5.0</td>\n",
       "      <td>8.0</td>\n",
       "      <td>7.0</td>\n",
       "      <td>2.0</td>\n",
       "      <td>2.0</td>\n",
       "      <td>55.0</td>\n",
       "      <td>1.0</td>\n",
       "    </tr>\n",
       "  </tbody>\n",
       "</table>\n",
       "</div>"
      ],
      "text/plain": [
       "  cntry  idno  year  tvtot  ppltrst  pplfair  pplhlp  happy  sclmeet  sclact  \\\n",
       "0    CH   5.0     6    3.0      3.0     10.0     5.0    8.0      5.0     4.0   \n",
       "1    CH  25.0     6    6.0      5.0      7.0     5.0    9.0      3.0     2.0   \n",
       "2    CH  26.0     6    1.0      8.0      8.0     8.0    7.0      6.0     3.0   \n",
       "3    CH  28.0     6    4.0      6.0      6.0     7.0   10.0      6.0     2.0   \n",
       "4    CH  29.0     6    5.0      6.0      7.0     5.0    8.0      7.0     2.0   \n",
       "\n",
       "   gndr  agea  partner  \n",
       "0   2.0  60.0      1.0  \n",
       "1   2.0  59.0      1.0  \n",
       "2   1.0  24.0      2.0  \n",
       "3   2.0  64.0      1.0  \n",
       "4   2.0  55.0      1.0  "
      ]
     },
     "execution_count": 7,
     "metadata": {},
     "output_type": "execute_result"
    }
   ],
   "source": [
    "df.head()"
   ]
  },
  {
   "cell_type": "code",
   "execution_count": 8,
   "metadata": {},
   "outputs": [],
   "source": [
    "import seaborn as sns\n",
    "import matplotlib.pyplot as plt\n",
    "%matplotlib inline"
   ]
  },
  {
   "cell_type": "markdown",
   "metadata": {},
   "source": [
    "### Q: Did people become less trusting from 2012 to 2014? Compute results for each country in the sample."
   ]
  },
  {
   "cell_type": "code",
   "execution_count": 9,
   "metadata": {},
   "outputs": [
    {
     "data": {
      "text/plain": [
       "<matplotlib.legend.Legend at 0x1a19f06eb8>"
      ]
     },
     "execution_count": 9,
     "metadata": {},
     "output_type": "execute_result"
    },
    {
     "data": {
      "image/png": "[encoded data removed]",
      "text/plain": [
       "<Figure size 720x360 with 1 Axes>"
      ]
     },
     "metadata": {
      "needs_background": "light"
     },
     "output_type": "display_data"
    }
   ],
   "source": [
    "plt.figure(figsize=(10, 5))\n",
    "\n",
    "sns.boxplot(x=\"cntry\", y=\"ppltrst\", hue=\"year\", \n",
    "            data=df, palette=\"Set3\").set_title('Trust Level by Country and Year')\n",
    "\n",
    "plt.xlabel('Country')\n",
    "plt.ylabel('Trust')\n",
    "\n",
    "plt.legend(loc='center left', bbox_to_anchor=(1, 0.5))"
   ]
  },
  {
   "cell_type": "markdown",
   "metadata": {},
   "source": [
    "**A:\n",
    "Overall, looking at both median and mean, the trust level slightly improved except for Spain. As for Spain, we see that there's an increase of disatistfied people, though the median stays the same.**"
   ]
  },
  {
   "cell_type": "markdown",
   "metadata": {},
   "source": [
    "### Q: Did people become happier from 2012 to 2014? Compute results for each country in the sample."
   ]
  },
  {
   "cell_type": "code",
   "execution_count": 10,
   "metadata": {},
   "outputs": [
    {
     "data": {
      "text/plain": [
       "<matplotlib.legend.Legend at 0x1a1a43fb70>"
      ]
     },
     "execution_count": 10,
     "metadata": {},
     "output_type": "execute_result"
    },
    {
     "data": {
      "image/png": "[encoded data removed]",
      "text/plain": [
       "<Figure size 720x360 with 1 Axes>"
      ]
     },
     "metadata": {
      "needs_background": "light"
     },
     "output_type": "display_data"
    }
   ],
   "source": [
    "plt.figure(figsize=(10, 5))\n",
    "\n",
    "sns.boxplot(x=\"cntry\", y=\"happy\", hue=\"year\", \n",
    "            data=df, palette=\"Set3\").set_title('Trust Level by Country and Year')\n",
    "\n",
    "plt.xlabel('Country')\n",
    "plt.ylabel('Trust')\n",
    "\n",
    "plt.legend(loc='center left', bbox_to_anchor=(1, 0.5))"
   ]
  },
  {
   "cell_type": "code",
   "execution_count": 11,
   "metadata": {},
   "outputs": [],
   "source": [
    "result_2012=df.loc[df.year==6]\n",
    "result_2014=df.loc[df.year==7]"
   ]
  },
  {
   "cell_type": "code",
   "execution_count": 12,
   "metadata": {
    "scrolled": true
   },
   "outputs": [
    {
     "data": {
      "text/plain": [
       "<matplotlib.axes._subplots.AxesSubplot at 0x1a1a646b38>"
      ]
     },
     "execution_count": 12,
     "metadata": {},
     "output_type": "execute_result"
    },
    {
     "data": {
      "image/png": "[encoded data removed]",
      "text/plain": [
       "<Figure size 432x288 with 1 Axes>"
      ]
     },
     "metadata": {
      "needs_background": "light"
     },
     "output_type": "display_data"
    }
   ],
   "source": [
    "result_2012['happy'].hist()"
   ]
  },
  {
   "cell_type": "markdown",
   "metadata": {},
   "source": [
    "* Overall, the median of happiness is similar across the country. However, we see that the results aren't normal. I will be evaluating the differences using Wilcoxon Rank."
   ]
  },
  {
   "cell_type": "code",
   "execution_count": 13,
   "metadata": {},
   "outputs": [
    {
     "data": {
      "text/plain": [
       "array(['CH', 'CZ', 'DE', 'ES', 'NO', 'SE'], dtype=object)"
      ]
     },
     "execution_count": 13,
     "metadata": {},
     "output_type": "execute_result"
    }
   ],
   "source": [
    "countries=df.cntry.unique()\n",
    "countries"
   ]
  },
  {
   "cell_type": "code",
   "execution_count": 14,
   "metadata": {},
   "outputs": [],
   "source": [
    "countries_2012 = {c: i for c, i in result_2012.groupby('cntry')}\n",
    "countries_2014 = {c: i for c, i in result_2014.groupby('cntry')}"
   ]
  },
  {
   "cell_type": "code",
   "execution_count": 15,
   "metadata": {},
   "outputs": [],
   "source": [
    "ranks_CH = stats.rankdata(\n",
    "    countries_2012['CH']['happy'].tolist() + countries_2014['CH']['happy'].tolist())\n",
    "\n",
    "ranks_CZ = stats.rankdata(\n",
    "    countries_2012['CZ']['happy'].tolist() + countries_2014['CZ']['happy'].tolist())\n",
    "\n",
    "ranks_DE = stats.rankdata(\n",
    "    countries_2012['DE']['happy'].tolist() + countries_2014['DE']['happy'].tolist())\n",
    "\n",
    "ranks_ES = stats.rankdata(\n",
    "    countries_2012['ES']['happy'].tolist() + countries_2014['ES']['happy'].tolist())\n",
    "\n",
    "ranks_NO = stats.rankdata(\n",
    "    countries_2012['NO']['happy'].tolist() + countries_2014['NO']['happy'].tolist())\n",
    "\n",
    "ranks_SE = stats.rankdata(\n",
    "    countries_2012['SE']['happy'].tolist() + countries_2014['SE']['happy'].tolist())"
   ]
  },
  {
   "cell_type": "code",
   "execution_count": 16,
   "metadata": {},
   "outputs": [
    {
     "name": "stdout",
     "output_type": "stream",
     "text": [
      "Switzerland Happiness 2012 vs. 2014:\n",
      "769.8208279430789\n",
      "777.1791720569211\n",
      "WilcoxonResult(statistic=92816.5, pvalue=0.8208688161425343)\n"
     ]
    },
    {
     "name": "stderr",
     "output_type": "stream",
     "text": [
      "/anaconda3/lib/python3.7/site-packages/scipy/stats/morestats.py:2391: RuntimeWarning: invalid value encountered in greater\n",
      "  r_plus = np.sum((d > 0) * r, axis=0)\n",
      "/anaconda3/lib/python3.7/site-packages/scipy/stats/morestats.py:2392: RuntimeWarning: invalid value encountered in less\n",
      "  r_minus = np.sum((d < 0) * r, axis=0)\n"
     ]
    }
   ],
   "source": [
    "print(\"Switzerland Happiness 2012 vs. 2014:\")\n",
    "print(ranks_CH[:773].mean())\n",
    "print(ranks_CH[773:].mean())\n",
    "\n",
    "print(stats.wilcoxon(countries_2012['CH']['happy'], countries_2014['CH']['happy']))"
   ]
  },
  {
   "cell_type": "markdown",
   "metadata": {},
   "source": [
    "- the mean is higher for 2014. However, it shows 82% chance of getting our data if there were no systematic difference."
   ]
  },
  {
   "cell_type": "code",
   "execution_count": 17,
   "metadata": {},
   "outputs": [
    {
     "name": "stdout",
     "output_type": "stream",
     "text": [
      "Czech Republic Happiness 2012 vs. 2014:\n",
      "649.3996960486322\n",
      "667.6003039513678\n",
      "WilcoxonResult(statistic=73213.0, pvalue=0.01064243454053068)\n"
     ]
    }
   ],
   "source": [
    "print(\"Czech Republic Happiness 2012 vs. 2014:\")\n",
    "print(ranks_CZ[:658].mean())\n",
    "print(ranks_CZ[658:].mean())\n",
    "\n",
    "print(stats.wilcoxon(countries_2012['CZ']['happy'], countries_2014['CZ']['happy']))"
   ]
  },
  {
   "cell_type": "markdown",
   "metadata": {},
   "source": [
    "- the mean is higher for 2014 with a chance of 1% of getting our data if there were no systematic difference. It shows that the level of happiness went up for Czechs."
   ]
  },
  {
   "cell_type": "code",
   "execution_count": 18,
   "metadata": {},
   "outputs": [
    {
     "name": "stdout",
     "output_type": "stream",
     "text": [
      "DE Happiness 2012 vs. 2014:\n",
      "13.571428571428571\n",
      "15.428571428571429\n",
      "WilcoxonResult(statistic=23.5, pvalue=0.393351316918508)\n"
     ]
    }
   ],
   "source": [
    "print(\"DE Happiness 2012 vs. 2014:\")\n",
    "print(ranks_DE[:14].mean())\n",
    "print(ranks_DE[14:].mean())\n",
    "\n",
    "print(stats.wilcoxon(countries_2012['DE']['happy'], countries_2014['DE']['happy']))"
   ]
  },
  {
   "cell_type": "markdown",
   "metadata": {},
   "source": [
    "- the mean is higher for 2014. However, it shows 39% chance of getting our data if there were no systematic difference. *It's worth it to point out that the sample size is quite small for this cohort.*"
   ]
  },
  {
   "cell_type": "code",
   "execution_count": 19,
   "metadata": {
    "scrolled": true
   },
   "outputs": [
    {
     "name": "stdout",
     "output_type": "stream",
     "text": [
      "ES Happiness 2012 vs. 2014:\n",
      "1241.6978565539985\n",
      "1185.3021434460015\n",
      "WilcoxonResult(statistic=231958.5, pvalue=0.04923868084306013)\n"
     ]
    }
   ],
   "source": [
    "print(\"ES Happiness 2012 vs. 2014:\")\n",
    "print(ranks_ES[:1213].mean())\n",
    "print(ranks_ES[1213:].mean())\n",
    "\n",
    "print(stats.wilcoxon(countries_2012['ES']['happy'], countries_2014['ES']['happy']))"
   ]
  },
  {
   "cell_type": "markdown",
   "metadata": {},
   "source": [
    "- the mean is lower for 2014 with a chance of 5% of getting our data if there were no systematic difference. It shows that the level of happiness went lower for the Spanish."
   ]
  },
  {
   "cell_type": "code",
   "execution_count": 20,
   "metadata": {},
   "outputs": [
    {
     "name": "stdout",
     "output_type": "stream",
     "text": [
      "NO Happiness 2012 vs. 2014:\n",
      "780.1470588235294\n",
      "682.8529411764706\n",
      "WilcoxonResult(statistic=67571.5, pvalue=2.7264367804254175e-06)\n"
     ]
    }
   ],
   "source": [
    "print(\"NO Happiness 2012 vs. 2014:\")\n",
    "print(ranks_NO[:731].mean())\n",
    "print(ranks_NO[731:].mean())\n",
    "\n",
    "print(stats.wilcoxon(countries_2012['NO']['happy'], countries_2014['NO']['happy']))"
   ]
  },
  {
   "cell_type": "markdown",
   "metadata": {},
   "source": [
    "- the mean is lower for 2014 with a chance of 272% of getting our data if there were no systematic difference. It seems like there are significant outliers that weighs down the happiness. The public office might want to take a deeper look at the particular cohort."
   ]
  },
  {
   "cell_type": "code",
   "execution_count": 21,
   "metadata": {},
   "outputs": [
    {
     "name": "stdout",
     "output_type": "stream",
     "text": [
      "Sweden Happiness 2012 vs. 2014:\n",
      "904.8199339207049\n",
      "912.1800660792951\n",
      "WilcoxonResult(statistic=125481.0, pvalue=0.5136403441005022)\n"
     ]
    }
   ],
   "source": [
    "print(\"Sweden Happiness 2012 vs. 2014:\")\n",
    "print(ranks_SE[:908].mean())\n",
    "print(ranks_SE[908:].mean())\n",
    "\n",
    "print(stats.wilcoxon(countries_2012['SE']['happy'], countries_2014['SE']['happy']))"
   ]
  },
  {
   "cell_type": "markdown",
   "metadata": {},
   "source": [
    "- the mean is higher for 2014 with a chance of 51% of getting our data if there were no systematic difference. It seems like the level of happiness is quite similar from two years ago for the Swedish."
   ]
  },
  {
   "cell_type": "markdown",
   "metadata": {},
   "source": [
    "### Who reported watching more TV in 2012, men or women?"
   ]
  },
  {
   "cell_type": "code",
   "execution_count": 22,
   "metadata": {
    "scrolled": true
   },
   "outputs": [
    {
     "data": {
      "text/plain": [
       "Index(['cntry', 'idno', 'year', 'tvtot', 'ppltrst', 'pplfair', 'pplhlp',\n",
       "       'happy', 'sclmeet', 'sclact', 'gndr', 'agea', 'partner'],\n",
       "      dtype='object')"
      ]
     },
     "execution_count": 22,
     "metadata": {},
     "output_type": "execute_result"
    }
   ],
   "source": [
    "df.columns"
   ]
  },
  {
   "cell_type": "code",
   "execution_count": 23,
   "metadata": {},
   "outputs": [],
   "source": [
    "df_2012=df.loc[df.year==6][['tvtot', 'gndr']]"
   ]
  },
  {
   "cell_type": "code",
   "execution_count": 24,
   "metadata": {},
   "outputs": [
    {
     "data": {
      "text/plain": [
       "array([<matplotlib.axes._subplots.AxesSubplot object at 0x1a1a78af98>,\n",
       "       <matplotlib.axes._subplots.AxesSubplot object at 0x1a1a9e15c0>],\n",
       "      dtype=object)"
      ]
     },
     "execution_count": 24,
     "metadata": {},
     "output_type": "execute_result"
    },
    {
     "data": {
      "image/png": "[encoded data removed]",
      "text/plain": [
       "<Figure size 432x288 with 2 Axes>"
      ]
     },
     "metadata": {
      "needs_background": "light"
     },
     "output_type": "display_data"
    }
   ],
   "source": [
    "df_2012['tvtot'].hist(by=df_2012['gndr'])"
   ]
  },
  {
   "cell_type": "code",
   "execution_count": 25,
   "metadata": {},
   "outputs": [
    {
     "data": {
      "text/html": [
       "<div>\n",
       "<style scoped>\n",
       "    .dataframe tbody tr th:only-of-type {\n",
       "        vertical-align: middle;\n",
       "    }\n",
       "\n",
       "    .dataframe tbody tr th {\n",
       "        vertical-align: top;\n",
       "    }\n",
       "\n",
       "    .dataframe thead th {\n",
       "        text-align: right;\n",
       "    }\n",
       "</style>\n",
       "<table border=\"1\" class=\"dataframe\">\n",
       "  <thead>\n",
       "    <tr style=\"text-align: right;\">\n",
       "      <th></th>\n",
       "      <th>tvtot</th>\n",
       "    </tr>\n",
       "    <tr>\n",
       "      <th>gndr</th>\n",
       "      <th></th>\n",
       "    </tr>\n",
       "  </thead>\n",
       "  <tbody>\n",
       "    <tr>\n",
       "      <th>1.0</th>\n",
       "      <td>3.901906</td>\n",
       "    </tr>\n",
       "    <tr>\n",
       "      <th>2.0</th>\n",
       "      <td>3.944393</td>\n",
       "    </tr>\n",
       "  </tbody>\n",
       "</table>\n",
       "</div>"
      ],
      "text/plain": [
       "         tvtot\n",
       "gndr          \n",
       "1.0   3.901906\n",
       "2.0   3.944393"
      ]
     },
     "execution_count": 25,
     "metadata": {},
     "output_type": "execute_result"
    }
   ],
   "source": [
    "df_2012.groupby(by='gndr').mean()"
   ]
  },
  {
   "cell_type": "code",
   "execution_count": 26,
   "metadata": {
    "scrolled": true
   },
   "outputs": [
    {
     "data": {
      "text/plain": [
       "Text(0, 0.5, 'Time')"
      ]
     },
     "execution_count": 26,
     "metadata": {},
     "output_type": "execute_result"
    },
    {
     "data": {
      "image/png": "[encoded data removed]",
      "text/plain": [
       "<Figure size 360x216 with 1 Axes>"
      ]
     },
     "metadata": {
      "needs_background": "light"
     },
     "output_type": "display_data"
    }
   ],
   "source": [
    "plt.figure(figsize=(5, 3))\n",
    "\n",
    "sns.boxplot(x=\"gndr\", y=\"tvtot\",\n",
    "            data=df_2012, palette=\"Set3\").set_title('TV Watching Avg Time')\n",
    "\n",
    "plt.xlabel('Gender')\n",
    "plt.ylabel('Time')"
   ]
  },
  {
   "cell_type": "code",
   "execution_count": 27,
   "metadata": {},
   "outputs": [],
   "source": [
    "df_2012_men=df_2012.loc[df_2012['gndr']==1]['tvtot']\n",
    "df_2012_women=df_2012.loc[df_2012['gndr']==2]['tvtot']"
   ]
  },
  {
   "cell_type": "code",
   "execution_count": 28,
   "metadata": {},
   "outputs": [
    {
     "data": {
      "text/plain": [
       "2     1.0\n",
       "6     3.0\n",
       "11    4.0\n",
       "12    4.0\n",
       "13    2.0\n",
       "Name: tvtot, dtype: float64"
      ]
     },
     "execution_count": 28,
     "metadata": {},
     "output_type": "execute_result"
    }
   ],
   "source": [
    "df_2012_men.head()"
   ]
  },
  {
   "cell_type": "code",
   "execution_count": 29,
   "metadata": {},
   "outputs": [],
   "source": [
    "df_2012_women=df_2012_women.dropna()\n",
    "df_2012_men=df_2012_men.dropna()"
   ]
  },
  {
   "cell_type": "code",
   "execution_count": 30,
   "metadata": {},
   "outputs": [
    {
     "name": "stdout",
     "output_type": "stream",
     "text": [
      "0.4760900791225934\n",
      "0.49023604027095813\n"
     ]
    }
   ],
   "source": [
    "F, p = stats.f_oneway(\n",
    "    df_2012_men,\n",
    "    df_2012_women)\n",
    "\n",
    "# The F statistic.\n",
    "print(F)\n",
    "print(p)"
   ]
  },
  {
   "cell_type": "code",
   "execution_count": 31,
   "metadata": {},
   "outputs": [
    {
     "name": "stdout",
     "output_type": "stream",
     "text": [
      "Ttest_indResult(statistic=-0.6899351288552367, pvalue=0.49027236479485914)\n"
     ]
    }
   ],
   "source": [
    "print(stats.ttest_ind(df_2012_men, df_2012_women, equal_var=False))"
   ]
  },
  {
   "cell_type": "markdown",
   "metadata": {},
   "source": [
    "**A:\n",
    "Looking at both median, mean, and P-value (49%), it seems like there isn't much difference between men and women in their TV-watching habits.**"
   ]
  },
  {
   "cell_type": "markdown",
   "metadata": {},
   "source": [
    "### Who was more likely to believe people were fair in 2012, people living with a partner or people living alone?"
   ]
  },
  {
   "cell_type": "code",
   "execution_count": 32,
   "metadata": {},
   "outputs": [],
   "source": [
    "df_2012_fair=df.loc[df.year==6][['pplfair', 'partner']]"
   ]
  },
  {
   "cell_type": "code",
   "execution_count": 33,
   "metadata": {},
   "outputs": [
    {
     "data": {
      "text/plain": [
       "array([<matplotlib.axes._subplots.AxesSubplot object at 0x1a1ab005c0>,\n",
       "       <matplotlib.axes._subplots.AxesSubplot object at 0x1a1aca3278>],\n",
       "      dtype=object)"
      ]
     },
     "execution_count": 33,
     "metadata": {},
     "output_type": "execute_result"
    },
    {
     "data": {
      "image/png": "[encoded data removed]",
      "text/plain": [
       "<Figure size 432x288 with 2 Axes>"
      ]
     },
     "metadata": {
      "needs_background": "light"
     },
     "output_type": "display_data"
    }
   ],
   "source": [
    "df_2012_fair['pplfair'].hist(by=df_2012_fair['partner'])"
   ]
  },
  {
   "cell_type": "code",
   "execution_count": 34,
   "metadata": {},
   "outputs": [
    {
     "data": {
      "text/plain": [
       "Text(0, 0.5, 'Fairness')"
      ]
     },
     "execution_count": 34,
     "metadata": {},
     "output_type": "execute_result"
    },
    {
     "data": {
      "image/png": "[encoded data removed]",
      "text/plain": [
       "<Figure size 360x216 with 1 Axes>"
      ]
     },
     "metadata": {
      "needs_background": "light"
     },
     "output_type": "display_data"
    }
   ],
   "source": [
    "plt.figure(figsize=(5, 3))\n",
    "\n",
    "sns.boxplot(x=\"partner\", y=\"pplfair\",\n",
    "            data=df_2012_fair).set_title('Fairness_by partner status')\n",
    "\n",
    "plt.xlabel('Partner')\n",
    "plt.ylabel('Fairness')"
   ]
  },
  {
   "cell_type": "code",
   "execution_count": 35,
   "metadata": {},
   "outputs": [],
   "source": [
    "fair12_partner=df_2012_fair.loc[df_2012_fair['partner']==1]['pplfair']\n",
    "fair12_nopartner=df_2012_fair.loc[df_2012_fair['partner']==2]['pplfair']"
   ]
  },
  {
   "cell_type": "code",
   "execution_count": 36,
   "metadata": {},
   "outputs": [],
   "source": [
    "fair12_partner=fair12_partner.dropna()\n",
    "fair12_nopartner=fair12_nopartner.dropna()"
   ]
  },
  {
   "cell_type": "code",
   "execution_count": 37,
   "metadata": {},
   "outputs": [
    {
     "name": "stdout",
     "output_type": "stream",
     "text": [
      "count    2663.000000\n",
      "mean        6.080736\n",
      "std         2.116945\n",
      "min         0.000000\n",
      "25%         5.000000\n",
      "50%         7.000000\n",
      "75%         8.000000\n",
      "max        10.000000\n",
      "Name: pplfair, dtype: float64\n",
      "count    1608.000000\n",
      "mean        5.856965\n",
      "std         2.162229\n",
      "min         0.000000\n",
      "25%         5.000000\n",
      "50%         6.000000\n",
      "75%         7.000000\n",
      "max        10.000000\n",
      "Name: pplfair, dtype: float64\n"
     ]
    }
   ],
   "source": [
    "print(fair12_partner.describe())\n",
    "print(fair12_nopartner.describe())"
   ]
  },
  {
   "cell_type": "code",
   "execution_count": 38,
   "metadata": {},
   "outputs": [
    {
     "name": "stdout",
     "output_type": "stream",
     "text": [
      "Ttest_indResult(statistic=3.3027889746563357, pvalue=0.0009673897763136988)\n"
     ]
    }
   ],
   "source": [
    "print(stats.ttest_ind(fair12_partner, fair12_nopartner, equal_var=False))"
   ]
  },
  {
   "cell_type": "markdown",
   "metadata": {},
   "source": [
    "**A: Two cohorts have relatively sufficient number of observations. Seeing the mean and the median, with P-value < 0.05, it seems like the cohort with no partner significantly feels more like people are trying to take advantage of them.**\n",
    "\n",
    "### Pick three or four of the countries in the sample and compare how often people met socially in 2014. Are there differences, and if so, which countries stand out?"
   ]
  },
  {
   "cell_type": "code",
   "execution_count": 39,
   "metadata": {},
   "outputs": [],
   "source": [
    "social14=df.loc[df.year==7][['cntry','sclmeet']].dropna()"
   ]
  },
  {
   "cell_type": "code",
   "execution_count": 40,
   "metadata": {},
   "outputs": [
    {
     "data": {
      "text/html": [
       "<div>\n",
       "<style scoped>\n",
       "    .dataframe tbody tr th:only-of-type {\n",
       "        vertical-align: middle;\n",
       "    }\n",
       "\n",
       "    .dataframe tbody tr th {\n",
       "        vertical-align: top;\n",
       "    }\n",
       "\n",
       "    .dataframe thead tr th {\n",
       "        text-align: left;\n",
       "    }\n",
       "\n",
       "    .dataframe thead tr:last-of-type th {\n",
       "        text-align: right;\n",
       "    }\n",
       "</style>\n",
       "<table border=\"1\" class=\"dataframe\">\n",
       "  <thead>\n",
       "    <tr>\n",
       "      <th></th>\n",
       "      <th colspan=\"8\" halign=\"left\">sclmeet</th>\n",
       "    </tr>\n",
       "    <tr>\n",
       "      <th></th>\n",
       "      <th>count</th>\n",
       "      <th>mean</th>\n",
       "      <th>std</th>\n",
       "      <th>min</th>\n",
       "      <th>25%</th>\n",
       "      <th>50%</th>\n",
       "      <th>75%</th>\n",
       "      <th>max</th>\n",
       "    </tr>\n",
       "    <tr>\n",
       "      <th>cntry</th>\n",
       "      <th></th>\n",
       "      <th></th>\n",
       "      <th></th>\n",
       "      <th></th>\n",
       "      <th></th>\n",
       "      <th></th>\n",
       "      <th></th>\n",
       "      <th></th>\n",
       "    </tr>\n",
       "  </thead>\n",
       "  <tbody>\n",
       "    <tr>\n",
       "      <th>CH</th>\n",
       "      <td>772.0</td>\n",
       "      <td>5.160622</td>\n",
       "      <td>1.308499</td>\n",
       "      <td>1.0</td>\n",
       "      <td>4.0</td>\n",
       "      <td>6.0</td>\n",
       "      <td>6.0</td>\n",
       "      <td>7.0</td>\n",
       "    </tr>\n",
       "    <tr>\n",
       "      <th>CZ</th>\n",
       "      <td>655.0</td>\n",
       "      <td>4.445802</td>\n",
       "      <td>1.481706</td>\n",
       "      <td>1.0</td>\n",
       "      <td>4.0</td>\n",
       "      <td>4.0</td>\n",
       "      <td>6.0</td>\n",
       "      <td>7.0</td>\n",
       "    </tr>\n",
       "    <tr>\n",
       "      <th>DE</th>\n",
       "      <td>14.0</td>\n",
       "      <td>4.428571</td>\n",
       "      <td>0.755929</td>\n",
       "      <td>3.0</td>\n",
       "      <td>4.0</td>\n",
       "      <td>4.0</td>\n",
       "      <td>5.0</td>\n",
       "      <td>6.0</td>\n",
       "    </tr>\n",
       "    <tr>\n",
       "      <th>ES</th>\n",
       "      <td>1211.0</td>\n",
       "      <td>5.260116</td>\n",
       "      <td>1.467855</td>\n",
       "      <td>1.0</td>\n",
       "      <td>4.0</td>\n",
       "      <td>6.0</td>\n",
       "      <td>6.0</td>\n",
       "      <td>7.0</td>\n",
       "    </tr>\n",
       "    <tr>\n",
       "      <th>NO</th>\n",
       "      <td>731.0</td>\n",
       "      <td>5.302326</td>\n",
       "      <td>1.347848</td>\n",
       "      <td>1.0</td>\n",
       "      <td>4.0</td>\n",
       "      <td>6.0</td>\n",
       "      <td>6.0</td>\n",
       "      <td>7.0</td>\n",
       "    </tr>\n",
       "    <tr>\n",
       "      <th>SE</th>\n",
       "      <td>908.0</td>\n",
       "      <td>5.426211</td>\n",
       "      <td>1.373098</td>\n",
       "      <td>2.0</td>\n",
       "      <td>4.0</td>\n",
       "      <td>6.0</td>\n",
       "      <td>7.0</td>\n",
       "      <td>7.0</td>\n",
       "    </tr>\n",
       "  </tbody>\n",
       "</table>\n",
       "</div>"
      ],
      "text/plain": [
       "      sclmeet                                             \n",
       "        count      mean       std  min  25%  50%  75%  max\n",
       "cntry                                                     \n",
       "CH      772.0  5.160622  1.308499  1.0  4.0  6.0  6.0  7.0\n",
       "CZ      655.0  4.445802  1.481706  1.0  4.0  4.0  6.0  7.0\n",
       "DE       14.0  4.428571  0.755929  3.0  4.0  4.0  5.0  6.0\n",
       "ES     1211.0  5.260116  1.467855  1.0  4.0  6.0  6.0  7.0\n",
       "NO      731.0  5.302326  1.347848  1.0  4.0  6.0  6.0  7.0\n",
       "SE      908.0  5.426211  1.373098  2.0  4.0  6.0  7.0  7.0"
      ]
     },
     "execution_count": 40,
     "metadata": {},
     "output_type": "execute_result"
    }
   ],
   "source": [
    "social14.groupby(by='cntry').describe()"
   ]
  },
  {
   "cell_type": "code",
   "execution_count": 41,
   "metadata": {},
   "outputs": [
    {
     "data": {
      "text/plain": [
       "array([[<matplotlib.axes._subplots.AxesSubplot object at 0x1a1af51780>,\n",
       "        <matplotlib.axes._subplots.AxesSubplot object at 0x1a1aef1128>],\n",
       "       [<matplotlib.axes._subplots.AxesSubplot object at 0x1a1af16390>,\n",
       "        <matplotlib.axes._subplots.AxesSubplot object at 0x1a1afd55f8>],\n",
       "       [<matplotlib.axes._subplots.AxesSubplot object at 0x1a1b04d860>,\n",
       "        <matplotlib.axes._subplots.AxesSubplot object at 0x1a1b076ac8>]],\n",
       "      dtype=object)"
      ]
     },
     "execution_count": 41,
     "metadata": {},
     "output_type": "execute_result"
    },
    {
     "data": {
      "image/png": "[encoded data removed]",
      "text/plain": [
       "<Figure size 432x288 with 6 Axes>"
      ]
     },
     "metadata": {
      "needs_background": "light"
     },
     "output_type": "display_data"
    }
   ],
   "source": [
    "social14['sclmeet'].hist(by=social14['cntry'])"
   ]
  },
  {
   "cell_type": "code",
   "execution_count": 42,
   "metadata": {},
   "outputs": [
    {
     "data": {
      "text/plain": [
       "Text(0, 0.5, 'Social Frequency Score')"
      ]
     },
     "execution_count": 42,
     "metadata": {},
     "output_type": "execute_result"
    },
    {
     "data": {
      "image/png": "[encoded data removed]",
      "text/plain": [
       "<Figure size 576x360 with 1 Axes>"
      ]
     },
     "metadata": {
      "needs_background": "light"
     },
     "output_type": "display_data"
    }
   ],
   "source": [
    "plt.figure(figsize=(8,5))\n",
    "\n",
    "sns.boxplot(x=\"cntry\", y=\"sclmeet\",\n",
    "            data=social14).set_title('Social Frequency by Country')\n",
    "\n",
    "plt.xlabel('Country')\n",
    "plt.ylabel('Social Frequency Score')"
   ]
  },
  {
   "cell_type": "markdown",
   "metadata": {},
   "source": [
    "- Seeing the visual distribution, the Czechs have less `Social Frequency Score`, with the median 4*(Several times a month)*, and the mean 4.4, whereas the Swedish show high score, its 75% percentile score is 7*(everyday)*.  We can see this in the histogram where the Swedish graph is more right skewed compared to other, while the Czechs have more normal distribution."
   ]
  },
  {
   "cell_type": "code",
   "execution_count": 43,
   "metadata": {},
   "outputs": [
    {
     "name": "stdout",
     "output_type": "stream",
     "text": [
      "54.09118648070081\n",
      "1.530952943079821e-44\n"
     ]
    }
   ],
   "source": [
    "# Compare all countries except for Germany, which has less observation, using One-Way ANOVA.\n",
    "\n",
    "F, p = stats.f_oneway(\n",
    "    social14.loc[social14.cntry=='CH']['sclmeet'],\n",
    "    social14.loc[social14.cntry=='CZ']['sclmeet'],\n",
    "    social14.loc[social14.cntry=='ES']['sclmeet'],\n",
    "    social14.loc[social14.cntry=='NO']['sclmeet'],\n",
    "    social14.loc[social14.cntry=='SE']['sclmeet'])\n",
    "\n",
    "print(F)\n",
    "print(p)"
   ]
  },
  {
   "cell_type": "markdown",
   "metadata": {},
   "source": [
    "### Pick three or four of the countries in the sample and compare how often people took part in social activities, relative to others their age, in 2014. Are there differences, and if so, which countries stand out?\n"
   ]
  },
  {
   "cell_type": "code",
   "execution_count": 44,
   "metadata": {},
   "outputs": [],
   "source": [
    "social_act_14=df.loc[df.year==7][['cntry','agea','sclact']].dropna()"
   ]
  },
  {
   "cell_type": "code",
   "execution_count": 45,
   "metadata": {},
   "outputs": [],
   "source": [
    "social_act_14=social_act_14.loc[social_act_14.cntry!='DE']"
   ]
  },
  {
   "cell_type": "code",
   "execution_count": 46,
   "metadata": {},
   "outputs": [],
   "source": [
    "age=social_act_14['agea']\n",
    "age_group=[]\n",
    "\n",
    "for i in age:\n",
    "    if i <= 39:\n",
    "        age_group.append('tier1')\n",
    "    elif i <= 59:\n",
    "        age_group.append('tier2')\n",
    "    else:\n",
    "        age_group.append('tier3')\n",
    "        \n",
    "social_act_14['age_group']=age_group"
   ]
  },
  {
   "cell_type": "code",
   "execution_count": 47,
   "metadata": {},
   "outputs": [
    {
     "data": {
      "text/html": [
       "<div>\n",
       "<style scoped>\n",
       "    .dataframe tbody tr th:only-of-type {\n",
       "        vertical-align: middle;\n",
       "    }\n",
       "\n",
       "    .dataframe tbody tr th {\n",
       "        vertical-align: top;\n",
       "    }\n",
       "\n",
       "    .dataframe thead th {\n",
       "        text-align: right;\n",
       "    }\n",
       "</style>\n",
       "<table border=\"1\" class=\"dataframe\">\n",
       "  <thead>\n",
       "    <tr style=\"text-align: right;\">\n",
       "      <th></th>\n",
       "      <th></th>\n",
       "      <th>count</th>\n",
       "      <th>mean</th>\n",
       "      <th>std</th>\n",
       "      <th>min</th>\n",
       "      <th>25%</th>\n",
       "      <th>50%</th>\n",
       "      <th>75%</th>\n",
       "      <th>max</th>\n",
       "    </tr>\n",
       "    <tr>\n",
       "      <th>cntry</th>\n",
       "      <th>age_group</th>\n",
       "      <th></th>\n",
       "      <th></th>\n",
       "      <th></th>\n",
       "      <th></th>\n",
       "      <th></th>\n",
       "      <th></th>\n",
       "      <th></th>\n",
       "      <th></th>\n",
       "    </tr>\n",
       "  </thead>\n",
       "  <tbody>\n",
       "    <tr>\n",
       "      <th rowspan=\"3\" valign=\"top\">CH</th>\n",
       "      <th>tier1</th>\n",
       "      <td>308.0</td>\n",
       "      <td>2.788961</td>\n",
       "      <td>0.886531</td>\n",
       "      <td>1.0</td>\n",
       "      <td>2.0</td>\n",
       "      <td>3.0</td>\n",
       "      <td>3.0</td>\n",
       "      <td>5.0</td>\n",
       "    </tr>\n",
       "    <tr>\n",
       "      <th>tier2</th>\n",
       "      <td>236.0</td>\n",
       "      <td>2.809322</td>\n",
       "      <td>0.866442</td>\n",
       "      <td>1.0</td>\n",
       "      <td>2.0</td>\n",
       "      <td>3.0</td>\n",
       "      <td>3.0</td>\n",
       "      <td>5.0</td>\n",
       "    </tr>\n",
       "    <tr>\n",
       "      <th>tier3</th>\n",
       "      <td>199.0</td>\n",
       "      <td>2.748744</td>\n",
       "      <td>0.983288</td>\n",
       "      <td>1.0</td>\n",
       "      <td>2.0</td>\n",
       "      <td>3.0</td>\n",
       "      <td>3.0</td>\n",
       "      <td>5.0</td>\n",
       "    </tr>\n",
       "    <tr>\n",
       "      <th rowspan=\"3\" valign=\"top\">CZ</th>\n",
       "      <th>tier1</th>\n",
       "      <td>225.0</td>\n",
       "      <td>2.822222</td>\n",
       "      <td>0.809786</td>\n",
       "      <td>1.0</td>\n",
       "      <td>2.0</td>\n",
       "      <td>3.0</td>\n",
       "      <td>3.0</td>\n",
       "      <td>5.0</td>\n",
       "    </tr>\n",
       "    <tr>\n",
       "      <th>tier2</th>\n",
       "      <td>274.0</td>\n",
       "      <td>2.649635</td>\n",
       "      <td>0.817315</td>\n",
       "      <td>1.0</td>\n",
       "      <td>2.0</td>\n",
       "      <td>3.0</td>\n",
       "      <td>3.0</td>\n",
       "      <td>5.0</td>\n",
       "    </tr>\n",
       "    <tr>\n",
       "      <th>tier3</th>\n",
       "      <td>134.0</td>\n",
       "      <td>2.708955</td>\n",
       "      <td>0.924395</td>\n",
       "      <td>1.0</td>\n",
       "      <td>2.0</td>\n",
       "      <td>3.0</td>\n",
       "      <td>3.0</td>\n",
       "      <td>5.0</td>\n",
       "    </tr>\n",
       "    <tr>\n",
       "      <th rowspan=\"3\" valign=\"top\">ES</th>\n",
       "      <th>tier1</th>\n",
       "      <td>412.0</td>\n",
       "      <td>2.696602</td>\n",
       "      <td>0.867184</td>\n",
       "      <td>1.0</td>\n",
       "      <td>2.0</td>\n",
       "      <td>3.0</td>\n",
       "      <td>3.0</td>\n",
       "      <td>5.0</td>\n",
       "    </tr>\n",
       "    <tr>\n",
       "      <th>tier2</th>\n",
       "      <td>431.0</td>\n",
       "      <td>2.682135</td>\n",
       "      <td>0.939387</td>\n",
       "      <td>1.0</td>\n",
       "      <td>2.0</td>\n",
       "      <td>3.0</td>\n",
       "      <td>3.0</td>\n",
       "      <td>5.0</td>\n",
       "    </tr>\n",
       "    <tr>\n",
       "      <th>tier3</th>\n",
       "      <td>312.0</td>\n",
       "      <td>2.432692</td>\n",
       "      <td>1.052614</td>\n",
       "      <td>1.0</td>\n",
       "      <td>2.0</td>\n",
       "      <td>2.0</td>\n",
       "      <td>3.0</td>\n",
       "      <td>5.0</td>\n",
       "    </tr>\n",
       "    <tr>\n",
       "      <th rowspan=\"3\" valign=\"top\">NO</th>\n",
       "      <th>tier1</th>\n",
       "      <td>255.0</td>\n",
       "      <td>2.894118</td>\n",
       "      <td>0.828007</td>\n",
       "      <td>1.0</td>\n",
       "      <td>2.0</td>\n",
       "      <td>3.0</td>\n",
       "      <td>3.0</td>\n",
       "      <td>5.0</td>\n",
       "    </tr>\n",
       "    <tr>\n",
       "      <th>tier2</th>\n",
       "      <td>270.0</td>\n",
       "      <td>2.788889</td>\n",
       "      <td>0.773556</td>\n",
       "      <td>1.0</td>\n",
       "      <td>2.0</td>\n",
       "      <td>3.0</td>\n",
       "      <td>3.0</td>\n",
       "      <td>5.0</td>\n",
       "    </tr>\n",
       "    <tr>\n",
       "      <th>tier3</th>\n",
       "      <td>193.0</td>\n",
       "      <td>2.901554</td>\n",
       "      <td>0.881315</td>\n",
       "      <td>1.0</td>\n",
       "      <td>2.0</td>\n",
       "      <td>3.0</td>\n",
       "      <td>3.0</td>\n",
       "      <td>5.0</td>\n",
       "    </tr>\n",
       "    <tr>\n",
       "      <th rowspan=\"3\" valign=\"top\">SE</th>\n",
       "      <th>tier1</th>\n",
       "      <td>298.0</td>\n",
       "      <td>2.892617</td>\n",
       "      <td>0.817658</td>\n",
       "      <td>1.0</td>\n",
       "      <td>2.0</td>\n",
       "      <td>3.0</td>\n",
       "      <td>3.0</td>\n",
       "      <td>5.0</td>\n",
       "    </tr>\n",
       "    <tr>\n",
       "      <th>tier2</th>\n",
       "      <td>264.0</td>\n",
       "      <td>2.799242</td>\n",
       "      <td>0.898583</td>\n",
       "      <td>1.0</td>\n",
       "      <td>2.0</td>\n",
       "      <td>3.0</td>\n",
       "      <td>3.0</td>\n",
       "      <td>5.0</td>\n",
       "    </tr>\n",
       "    <tr>\n",
       "      <th>tier3</th>\n",
       "      <td>312.0</td>\n",
       "      <td>2.926282</td>\n",
       "      <td>0.866127</td>\n",
       "      <td>1.0</td>\n",
       "      <td>2.0</td>\n",
       "      <td>3.0</td>\n",
       "      <td>3.0</td>\n",
       "      <td>5.0</td>\n",
       "    </tr>\n",
       "  </tbody>\n",
       "</table>\n",
       "</div>"
      ],
      "text/plain": [
       "                 count      mean       std  min  25%  50%  75%  max\n",
       "cntry age_group                                                    \n",
       "CH    tier1      308.0  2.788961  0.886531  1.0  2.0  3.0  3.0  5.0\n",
       "      tier2      236.0  2.809322  0.866442  1.0  2.0  3.0  3.0  5.0\n",
       "      tier3      199.0  2.748744  0.983288  1.0  2.0  3.0  3.0  5.0\n",
       "CZ    tier1      225.0  2.822222  0.809786  1.0  2.0  3.0  3.0  5.0\n",
       "      tier2      274.0  2.649635  0.817315  1.0  2.0  3.0  3.0  5.0\n",
       "      tier3      134.0  2.708955  0.924395  1.0  2.0  3.0  3.0  5.0\n",
       "ES    tier1      412.0  2.696602  0.867184  1.0  2.0  3.0  3.0  5.0\n",
       "      tier2      431.0  2.682135  0.939387  1.0  2.0  3.0  3.0  5.0\n",
       "      tier3      312.0  2.432692  1.052614  1.0  2.0  2.0  3.0  5.0\n",
       "NO    tier1      255.0  2.894118  0.828007  1.0  2.0  3.0  3.0  5.0\n",
       "      tier2      270.0  2.788889  0.773556  1.0  2.0  3.0  3.0  5.0\n",
       "      tier3      193.0  2.901554  0.881315  1.0  2.0  3.0  3.0  5.0\n",
       "SE    tier1      298.0  2.892617  0.817658  1.0  2.0  3.0  3.0  5.0\n",
       "      tier2      264.0  2.799242  0.898583  1.0  2.0  3.0  3.0  5.0\n",
       "      tier3      312.0  2.926282  0.866127  1.0  2.0  3.0  3.0  5.0"
      ]
     },
     "execution_count": 47,
     "metadata": {},
     "output_type": "execute_result"
    }
   ],
   "source": [
    "social_act_14.groupby(by=['cntry','age_group'])['sclact'].describe()"
   ]
  },
  {
   "cell_type": "markdown",
   "metadata": {},
   "source": [
    "It seems like Norway and Sweden share similar patterns for each age group. As for Switzerland, its tier 2 seems to be more active than the other countries, whereas Tier1 of Spain seems like the least active group of all.  Here are further statistical tests to prove the assumptions.\n",
    "\n",
    "- See if Norway and Sweden are similar.\n",
    "- Compare Tier2 of Switzerland and Czech Republic to see if the mean difference is meaningful.\n",
    "- Compare Tier1 of Spain and Norway to see if the mean difference is meaningful."
   ]
  },
  {
   "cell_type": "code",
   "execution_count": 50,
   "metadata": {
    "scrolled": true
   },
   "outputs": [
    {
     "data": {
      "text/plain": [
       "array([[<matplotlib.axes._subplots.AxesSubplot object at 0x1a1adaba58>,\n",
       "        <matplotlib.axes._subplots.AxesSubplot object at 0x1a1baaea58>],\n",
       "       [<matplotlib.axes._subplots.AxesSubplot object at 0x1a1bc87cc0>,\n",
       "        <matplotlib.axes._subplots.AxesSubplot object at 0x1a1bcaff28>],\n",
       "       [<matplotlib.axes._subplots.AxesSubplot object at 0x1a1bce31d0>,\n",
       "        <matplotlib.axes._subplots.AxesSubplot object at 0x1a1bd09438>]],\n",
       "      dtype=object)"
      ]
     },
     "execution_count": 50,
     "metadata": {},
     "output_type": "execute_result"
    },
    {
     "data": {
      "image/png": "[encoded data removed]",
      "text/plain": [
       "<Figure size 432x288 with 6 Axes>"
      ]
     },
     "metadata": {
      "needs_background": "light"
     },
     "output_type": "display_data"
    }
   ],
   "source": [
    "social_act_14['sclact'].hist(by=social_act_14['cntry'])"
   ]
  },
  {
   "cell_type": "code",
   "execution_count": 51,
   "metadata": {},
   "outputs": [
    {
     "data": {
      "text/plain": [
       "<matplotlib.legend.Legend at 0x1a1bea7470>"
      ]
     },
     "execution_count": 51,
     "metadata": {},
     "output_type": "execute_result"
    },
    {
     "data": {
      "image/png": "[encoded data removed]",
      "text/plain": [
       "<Figure size 1080x504 with 1 Axes>"
      ]
     },
     "metadata": {
      "needs_background": "light"
     },
     "output_type": "display_data"
    }
   ],
   "source": [
    "plt.figure(figsize=(15,7))\n",
    "\n",
    "sns.boxplot(x=\"cntry\", y=\"sclact\", hue='age_group',\n",
    "            data=social_act_14).set_title('Social Activity by Country')\n",
    "\n",
    "plt.xlabel('Country')\n",
    "plt.ylabel('Social Activity Score')\n",
    "plt.legend(loc='center left', bbox_to_anchor=(1, 0.5))"
   ]
  },
  {
   "cell_type": "code",
   "execution_count": 52,
   "metadata": {},
   "outputs": [
    {
     "data": {
      "text/html": [
       "<div>\n",
       "<style scoped>\n",
       "    .dataframe tbody tr th:only-of-type {\n",
       "        vertical-align: middle;\n",
       "    }\n",
       "\n",
       "    .dataframe tbody tr th {\n",
       "        vertical-align: top;\n",
       "    }\n",
       "\n",
       "    .dataframe thead th {\n",
       "        text-align: right;\n",
       "    }\n",
       "</style>\n",
       "<table border=\"1\" class=\"dataframe\">\n",
       "  <thead>\n",
       "    <tr style=\"text-align: right;\">\n",
       "      <th></th>\n",
       "      <th>cntry</th>\n",
       "      <th>agea</th>\n",
       "      <th>sclact</th>\n",
       "      <th>age_group</th>\n",
       "    </tr>\n",
       "  </thead>\n",
       "  <tbody>\n",
       "    <tr>\n",
       "      <th>773</th>\n",
       "      <td>CH</td>\n",
       "      <td>69.0</td>\n",
       "      <td>4.0</td>\n",
       "      <td>tier3</td>\n",
       "    </tr>\n",
       "    <tr>\n",
       "      <th>774</th>\n",
       "      <td>CH</td>\n",
       "      <td>30.0</td>\n",
       "      <td>3.0</td>\n",
       "      <td>tier1</td>\n",
       "    </tr>\n",
       "    <tr>\n",
       "      <th>775</th>\n",
       "      <td>CH</td>\n",
       "      <td>49.0</td>\n",
       "      <td>5.0</td>\n",
       "      <td>tier2</td>\n",
       "    </tr>\n",
       "    <tr>\n",
       "      <th>776</th>\n",
       "      <td>CH</td>\n",
       "      <td>51.0</td>\n",
       "      <td>2.0</td>\n",
       "      <td>tier2</td>\n",
       "    </tr>\n",
       "    <tr>\n",
       "      <th>777</th>\n",
       "      <td>CH</td>\n",
       "      <td>32.0</td>\n",
       "      <td>2.0</td>\n",
       "      <td>tier1</td>\n",
       "    </tr>\n",
       "  </tbody>\n",
       "</table>\n",
       "</div>"
      ],
      "text/plain": [
       "    cntry  agea  sclact age_group\n",
       "773    CH  69.0     4.0     tier3\n",
       "774    CH  30.0     3.0     tier1\n",
       "775    CH  49.0     5.0     tier2\n",
       "776    CH  51.0     2.0     tier2\n",
       "777    CH  32.0     2.0     tier1"
      ]
     },
     "execution_count": 52,
     "metadata": {},
     "output_type": "execute_result"
    }
   ],
   "source": [
    "social_act_14.head()"
   ]
  },
  {
   "cell_type": "markdown",
   "metadata": {},
   "source": [
    "#### See if the groups are similar between Norway and Sweden"
   ]
  },
  {
   "cell_type": "code",
   "execution_count": 55,
   "metadata": {},
   "outputs": [
    {
     "name": "stdout",
     "output_type": "stream",
     "text": [
      "Ttest_indResult(statistic=-0.469721925789733, pvalue=0.6386196185490257)\n"
     ]
    }
   ],
   "source": [
    "from scipy.stats import ttest_ind\n",
    "\n",
    "sclact14_no=social_act_14.loc[social_act_14.cntry=='NO']['sclact']\n",
    "sclact14_se=social_act_14.loc[social_act_14.cntry=='SE']['sclact']\n",
    "\n",
    "print(ttest_ind(sclact14_no, sclact14_se, equal_var=False))"
   ]
  },
  {
   "cell_type": "code",
   "execution_count": 77,
   "metadata": {},
   "outputs": [
    {
     "name": "stdout",
     "output_type": "stream",
     "text": [
      "MannwhitneyuResult(statistic=307499.5, pvalue=0.22826234550730906)\n"
     ]
    }
   ],
   "source": [
    "print(stats.mannwhitneyu(sclact14_no, sclact14_se))"
   ]
  },
  {
   "cell_type": "markdown",
   "metadata": {},
   "source": [
    "- with P-value of 64%, it's more likely that the difference we see in the means don't reflect the meaningful differences between the populations. This means the Norway and Sweden populations show very similar trends. "
   ]
  },
  {
   "cell_type": "markdown",
   "metadata": {},
   "source": [
    "#### Compare Tier2 of Switzerland, Sweden, and the Czech Republic to see if the mean difference is meaningful."
   ]
  },
  {
   "cell_type": "code",
   "execution_count": 84,
   "metadata": {},
   "outputs": [
    {
     "name": "stdout",
     "output_type": "stream",
     "text": [
      "Ttest_indResult(statistic=0.12760479840990313, pvalue=0.8985135402059791)\n"
     ]
    }
   ],
   "source": [
    "sclact14_ch_tier2=social_act_14.loc[(social_act_14.cntry=='CH')& \n",
    "                                    (social_act_14.age_group=='tier2'),'sclact']\n",
    "sclact14_se_tier2=social_act_14.loc[(social_act_14.cntry=='SE')& \n",
    "                                    (social_act_14.age_group=='tier2'),'sclact']\n",
    "\n",
    "print(ttest_ind(sclact14_ch_tier2, sclact14_se_tier2, equal_var=False))"
   ]
  },
  {
   "cell_type": "code",
   "execution_count": 85,
   "metadata": {},
   "outputs": [
    {
     "name": "stdout",
     "output_type": "stream",
     "text": [
      "MannwhitneyuResult(statistic=30827.0, pvalue=0.41496812485360907)\n"
     ]
    }
   ],
   "source": [
    "print(stats.mannwhitneyu(sclact14_ch_tier2, sclact14_se_tier2))"
   ]
  },
  {
   "cell_type": "code",
   "execution_count": 86,
   "metadata": {},
   "outputs": [
    {
     "name": "stdout",
     "output_type": "stream",
     "text": [
      "Ttest_indResult(statistic=2.130298077534246, pvalue=0.033647550764561336)\n",
      "MannwhitneyuResult(statistic=29615.5, pvalue=0.03673122534014132)\n"
     ]
    }
   ],
   "source": [
    "sclact14_cz_tier2=social_act_14.loc[(social_act_14.cntry=='CZ')& \n",
    "                                    (social_act_14.age_group=='tier2'),'sclact']\n",
    "\n",
    "print(ttest_ind(sclact14_ch_tier2, sclact14_cz_tier2, equal_var=False))\n",
    "print(stats.mannwhitneyu(sclact14_ch_tier2, sclact14_cz_tier2))"
   ]
  },
  {
   "cell_type": "code",
   "execution_count": 65,
   "metadata": {},
   "outputs": [
    {
     "name": "stdout",
     "output_type": "stream",
     "text": [
      "2.809322033898305\n"
     ]
    },
    {
     "data": {
      "text/plain": [
       "<matplotlib.axes._subplots.AxesSubplot at 0x1a1ca1f4a8>"
      ]
     },
     "execution_count": 65,
     "metadata": {},
     "output_type": "execute_result"
    },
    {
     "data": {
      "image/png": "[encoded data removed]",
      "text/plain": [
       "<Figure size 432x288 with 1 Axes>"
      ]
     },
     "metadata": {
      "needs_background": "light"
     },
     "output_type": "display_data"
    }
   ],
   "source": [
    "print(sclact14_ch_tier2.mean())\n",
    "sclact14_ch_tier2.hist()"
   ]
  },
  {
   "cell_type": "code",
   "execution_count": 87,
   "metadata": {},
   "outputs": [
    {
     "name": "stdout",
     "output_type": "stream",
     "text": [
      "2.7992424242424243\n"
     ]
    },
    {
     "data": {
      "text/plain": [
       "<matplotlib.axes._subplots.AxesSubplot at 0x1a1cf56898>"
      ]
     },
     "execution_count": 87,
     "metadata": {},
     "output_type": "execute_result"
    },
    {
     "data": {
      "image/png": "[encoded data removed]",
      "text/plain": [
       "<Figure size 432x288 with 1 Axes>"
      ]
     },
     "metadata": {
      "needs_background": "light"
     },
     "output_type": "display_data"
    }
   ],
   "source": [
    "print(sclact14_se_tier2.mean())\n",
    "sclact14_cz_tier2.hist()"
   ]
  },
  {
   "cell_type": "markdown",
   "metadata": {},
   "source": [
    "- Although Tier2 of Switzerland shows a higher mean score and the Sweden, the p-values show that the two populations aren't different meaningfully, therefore, we can't reject the null hypothesis. \n",
    "- However, Tier2 of Switzerland and the Czech Republic show a p-value lower than 0.05, which signifies the population differences. It means that Tier2 of Switzerland show higher social activities than the Czechs.\n",
    "\n",
    "#### Compare Tier1 of Spain with Norway to see if the mean difference is meaningful."
   ]
  },
  {
   "cell_type": "code",
   "execution_count": 88,
   "metadata": {},
   "outputs": [
    {
     "name": "stdout",
     "output_type": "stream",
     "text": [
      "Ttest_indResult(statistic=2.9398629816212485, pvalue=0.0034197802435161732)\n"
     ]
    }
   ],
   "source": [
    "sclact14_no_tier1=social_act_14.loc[(social_act_14.cntry=='NO')& \n",
    "                                    (social_act_14.age_group=='tier1'),'sclact']\n",
    "sclact14_es_tier1=social_act_14.loc[(social_act_14.cntry=='ES')& \n",
    "                                    (social_act_14.age_group=='tier1'),'sclact']\n",
    "\n",
    "print(ttest_ind(sclact14_no_tier1, sclact14_es_tier1, equal_var=False))"
   ]
  },
  {
   "cell_type": "code",
   "execution_count": 89,
   "metadata": {},
   "outputs": [
    {
     "name": "stdout",
     "output_type": "stream",
     "text": [
      "MannwhitneyuResult(statistic=46982.0, pvalue=0.006168145329936904)\n",
      "KruskalResult(statistic=6.263013392405898, pvalue=0.012328433026275117)\n"
     ]
    }
   ],
   "source": [
    "print(stats.mannwhitneyu(sclact14_no_tier1, sclact14_es_tier1))\n",
    "\n",
    "print(stats.kruskal(sclact14_no_tier1, sclact14_es_tier1))"
   ]
  },
  {
   "cell_type": "code",
   "execution_count": 90,
   "metadata": {},
   "outputs": [
    {
     "name": "stdout",
     "output_type": "stream",
     "text": [
      "2.8941176470588235\n"
     ]
    },
    {
     "data": {
      "text/plain": [
       "<matplotlib.axes._subplots.AxesSubplot at 0x1a1d364dd8>"
      ]
     },
     "execution_count": 90,
     "metadata": {},
     "output_type": "execute_result"
    },
    {
     "data": {
      "image/png": "[encoded data removed]",
      "text/plain": [
       "<Figure size 432x288 with 1 Axes>"
      ]
     },
     "metadata": {
      "needs_background": "light"
     },
     "output_type": "display_data"
    }
   ],
   "source": [
    "print(sclact14_no_tier1.mean())\n",
    "sclact14_ch_tier1.hist()"
   ]
  },
  {
   "cell_type": "code",
   "execution_count": 91,
   "metadata": {},
   "outputs": [
    {
     "name": "stdout",
     "output_type": "stream",
     "text": [
      "2.6966019417475726\n"
     ]
    },
    {
     "data": {
      "text/plain": [
       "<matplotlib.axes._subplots.AxesSubplot at 0x1a1d1af160>"
      ]
     },
     "execution_count": 91,
     "metadata": {},
     "output_type": "execute_result"
    },
    {
     "data": {
      "image/png": "[encoded data removed]",
      "text/plain": [
       "<Figure size 432x288 with 1 Axes>"
      ]
     },
     "metadata": {
      "needs_background": "light"
     },
     "output_type": "display_data"
    }
   ],
   "source": [
    "print(sclact14_es_tier1.mean())\n",
    "sclact14_es_tier1.hist()"
   ]
  },
  {
   "cell_type": "markdown",
   "metadata": {},
   "source": [
    "- When conducted Mann-Whitney U test, it showed a P-value of 0.006. It seems like Tier1 of Spain show significantly low social activities."
   ]
  },
  {
   "cell_type": "code",
   "execution_count": null,
   "metadata": {},
   "outputs": [],
   "source": []
  }
 ],
 "metadata": {
  "kernelspec": {
   "display_name": "Python 3",
   "language": "python",
   "name": "python3"
  },
  "language_info": {
   "codemirror_mode": {
    "name": "ipython",
    "version": 3
   },
   "file_extension": ".py",
   "mimetype": "text/x-python",
   "name": "python",
   "nbconvert_exporter": "python",
   "pygments_lexer": "ipython3",
   "version": "3.7.1"
  },
  "toc": {
   "base_numbering": 1,
   "nav_menu": {},
   "number_sections": true,
   "sideBar": true,
   "skip_h1_title": false,
   "title_cell": "Table of Contents",
   "title_sidebar": "Contents",
   "toc_cell": false,
   "toc_position": {},
   "toc_section_display": true,
   "toc_window_display": false
  }
 },
 "nbformat": 4,
 "nbformat_minor": 2
}
